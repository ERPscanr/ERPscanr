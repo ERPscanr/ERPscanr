{
 "cells": [
  {
   "cell_type": "markdown",
   "metadata": {},
   "source": [
    "## HOLDING PROCESS AUTHORS CODE:"
   ]
  },
  {
   "cell_type": "code",
   "execution_count": 1,
   "metadata": {},
   "outputs": [],
   "source": [
    "#authors = []\n",
    "#for art_authors in authors:\n",
    "#    if art_authors:\n",
    "#        art_authors = [(author[0], author[2]) for author in art_authors]\n",
    "#    authors.append(art_authors)\n",
    "\n",
    "#authors = [[(author[0], author[2]) if author else None for author in art_authors] \\\n",
    "#    for art_authors in authors]\n",
    "\n",
    "#all_authors = [(author[0], author[2]) for art_authors \\\n",
    "#    in drop_none(authors) for author in art_authors]\n",
    "\n",
    "#all_authors = _fix_author_names(all_authors)"
   ]
  },
  {
   "cell_type": "code",
   "execution_count": null,
   "metadata": {},
   "outputs": [],
   "source": []
  },
  {
   "cell_type": "markdown",
   "metadata": {},
   "source": [
    "## EXTRA / OLD CODE FROM OLD APPROACH FOR ARTICLES_ALL"
   ]
  },
  {
   "cell_type": "code",
   "execution_count": null,
   "metadata": {},
   "outputs": [],
   "source": [
    "# def _count_authors(authors):\n",
    "#     \"\"\"Count all authors.\n",
    "\n",
    "#     Parameters\n",
    "#     ----------\n",
    "#     authors : list of list of tuple of (str, str, str, str)\n",
    "#         Authors, as (last name, first name, initials, affiliation).\n",
    "\n",
    "#     Returns\n",
    "#     -------\n",
    "#     author_counts : collections.Counter\n",
    "#         Number of publications per author.\n",
    "#     \"\"\"\n",
    "\n",
    "#     # Standardize author names and count number of publications per author\n",
    "#     author_counts = count_elements()\n",
    "\n",
    "#     return author_counts\n",
    "\n",
    "\n",
    "# def _count_end_authors(authors):\n",
    "#     \"\"\"Count first and last authors only.\n",
    "\n",
    "#     Parameters\n",
    "#     ----------\n",
    "#     authors : list of list of tuple of (str, str, str, str)\n",
    "#         Authors, as (last name, first name, initials, affiliation).\n",
    "\n",
    "#     Returns\n",
    "#     -------\n",
    "#     first_counts, last_counts : collections.Counter\n",
    "#         Number of publications for each first and last author.\n",
    "#     \"\"\"\n",
    "\n",
    "#     # Pull out the full name for the first & last author of each article\n",
    "#     #  Last author is only considered if there is more than 1 author\n",
    "#     firsts = [auth[0] for auth in drop_none(authors)]\n",
    "#     f_names = [(author[0], author[2]) for author in firsts]\n",
    "\n",
    "#     lasts = [auth[-1] for auth in drop_none(authors) if len(auth) > 1]\n",
    "#     l_names = [(author[0], author[2]) for author in lasts]\n",
    "\n",
    "#     f_counts = count_elements(_fix_author_names(f_names))\n",
    "#     l_counts = count_elements(_fix_author_names(l_names))\n",
    "\n",
    "#     return f_counts, l_counts\n"
   ]
  },
  {
   "cell_type": "code",
   "execution_count": null,
   "metadata": {},
   "outputs": [],
   "source": []
  },
  {
   "cell_type": "markdown",
   "metadata": {},
   "source": [
    "## OLD CODE FROM ARTICLES_ALL INIT"
   ]
  },
  {
   "cell_type": "code",
   "execution_count": null,
   "metadata": {},
   "outputs": [],
   "source": [
    "#self.journals = count_elements([journal[0] for journal in articles.journals])\n",
    "\n",
    "#self.authors = _count_authors(articles.authors)\n",
    "#self.authors = count_elements(_process_authors(articles.authors))\n",
    "#self.first_authors, self.last_authors = _count_end_authors(articles.authors)\n",
    "\n",
    "#temp_words = [convert_string(words) for words in articles.words]\n",
    "#self.words = count_elements(combine_lists(temp_words), exclusions)"
   ]
  },
  {
   "cell_type": "code",
   "execution_count": null,
   "metadata": {},
   "outputs": [],
   "source": []
  },
  {
   "cell_type": "markdown",
   "metadata": {},
   "source": [
    "## OLD TESTS FROM OLD APPROACH OF TEST_ARTICLES_ALL"
   ]
  },
  {
   "cell_type": "code",
   "execution_count": null,
   "metadata": {},
   "outputs": [],
   "source": [
    "# def test_count_authors():\n",
    "\n",
    "#     tdata = [[('Smith', 'Alfred', 'AS', 'Python'),\n",
    "#               ('Doe', 'Jane', 'JR', 'JavaScript')],\n",
    "#              [('Smith', 'Alfred', 'AS', 'Python')]]\n",
    "#     out = _count_authors(tdata)\n",
    "\n",
    "#     assert out[('Smith', 'AS')] == 2\n",
    "#     assert out[('Doe', 'JR')] == 1\n",
    "\n",
    "# def test_count_end_authors():\n",
    "\n",
    "#     tdata = [[('Smith', 'Alfred', 'AS', 'Python'),\n",
    "#               ('Middle', 'Arthur', 'AA', 'Matlab'),\n",
    "#               ('Doe', 'Jane', 'JR', 'JavaScript')],\n",
    "#              [('Smith', 'Alfred', 'AS', 'Python')]]\n",
    "\n",
    "#     f_authors, l_authors = _count_end_authors(tdata)\n",
    "\n",
    "#     assert f_authors[('Smith', 'AS')] == 2\n",
    "#     assert l_authors[('Doe', 'JR')] == 1\n"
   ]
  },
  {
   "cell_type": "code",
   "execution_count": null,
   "metadata": {},
   "outputs": [],
   "source": []
  },
  {
   "cell_type": "markdown",
   "metadata": {},
   "source": [
    "## OLD COMBINE_LISTS:"
   ]
  },
  {
   "cell_type": "code",
   "execution_count": 2,
   "metadata": {},
   "outputs": [],
   "source": [
    "#out = []\n",
    "\n",
    "#for el in in_lst:\n",
    "#    if el:\n",
    "#        out.extend(lower_list(el))\n",
    "\n",
    "#return out"
   ]
  },
  {
   "cell_type": "code",
   "execution_count": null,
   "metadata": {},
   "outputs": [],
   "source": []
  },
  {
   "cell_type": "markdown",
   "metadata": {},
   "source": [
    "## OLD / ALTERNATE FOR GET_ALL_VALUES"
   ]
  },
  {
   "cell_type": "code",
   "execution_count": 3,
   "metadata": {},
   "outputs": [],
   "source": [
    "#values = [val for attrs in [getattr(datum, attribute) for datum in data] for val in attrs]"
   ]
  },
  {
   "cell_type": "code",
   "execution_count": null,
   "metadata": {},
   "outputs": [],
   "source": []
  },
  {
   "cell_type": "code",
   "execution_count": 16,
   "metadata": {},
   "outputs": [
    {
     "data": {
      "text/plain": [
       "1"
      ]
     },
     "execution_count": 16,
     "metadata": {},
     "output_type": "execute_result"
    }
   ],
   "source": [
    "min(1, 2)"
   ]
  },
  {
   "cell_type": "code",
   "execution_count": 1,
   "metadata": {},
   "outputs": [],
   "source": [
    "from lisc import Words"
   ]
  },
  {
   "cell_type": "code",
   "execution_count": 2,
   "metadata": {},
   "outputs": [],
   "source": [
    "terms = [['brain'], ['body']]"
   ]
  },
  {
   "cell_type": "code",
   "execution_count": 3,
   "metadata": {},
   "outputs": [],
   "source": [
    "words = Words()\n",
    "words.add_terms(terms)"
   ]
  },
  {
   "cell_type": "code",
   "execution_count": 4,
   "metadata": {},
   "outputs": [
    {
     "name": "stdout",
     "output_type": "stream",
     "text": [
      "https://eutils.ncbi.nlm.nih.gov/entrez/eutils/einfo.fcgi?db=pubmed\n",
      "https://eutils.ncbi.nlm.nih.gov/entrez/eutils/esearch.fcgi?db=pubmed&usehistory=y&retmax=2&field=TIAB&retmode=xml&term=(\"brain\")\n",
      "https://eutils.ncbi.nlm.nih.gov/entrez/eutils/efetch.fcgi?db=pubmed&retmode=xml&WebEnv=MCID_60a0b8feb79f3611b710c37a&query_key=1&retstart=0&retmax=2\n",
      "https://eutils.ncbi.nlm.nih.gov/entrez/eutils/esearch.fcgi?db=pubmed&usehistory=y&retmax=2&field=TIAB&retmode=xml&term=(\"body\")\n",
      "https://eutils.ncbi.nlm.nih.gov/entrez/eutils/efetch.fcgi?db=pubmed&retmode=xml&WebEnv=MCID_60a0b8ff25312050cf3d929a&query_key=1&retstart=0&retmax=2\n"
     ]
    }
   ],
   "source": [
    "words.run_collection(retmax=2, usehistory=True, logging='print')"
   ]
  },
  {
   "cell_type": "code",
   "execution_count": 5,
   "metadata": {},
   "outputs": [],
   "source": [
    "from lisc.collect import collect_words"
   ]
  },
  {
   "cell_type": "code",
   "execution_count": 6,
   "metadata": {
    "scrolled": false
   },
   "outputs": [
    {
     "data": {
      "text/plain": [
       "['Shedding light on pain for the clinic: a comprehensive review of using functional near-infrared spectroscopy to monitor its process in the brain.',\n",
       " 'Investigating the specificity of the neurologic pain signature against breathlessness and finger opposition.']"
      ]
     },
     "execution_count": 6,
     "metadata": {},
     "output_type": "execute_result"
    }
   ],
   "source": [
    "words.results[0].titles"
   ]
  },
  {
   "cell_type": "code",
   "execution_count": 11,
   "metadata": {},
   "outputs": [],
   "source": [
    "words.run_collection"
   ]
  },
  {
   "cell_type": "code",
   "execution_count": null,
   "metadata": {},
   "outputs": [],
   "source": []
  }
 ],
 "metadata": {
  "kernelspec": {
   "display_name": "Python 3",
   "language": "python",
   "name": "python3"
  },
  "language_info": {
   "codemirror_mode": {
    "name": "ipython",
    "version": 3
   },
   "file_extension": ".py",
   "mimetype": "text/x-python",
   "name": "python",
   "nbconvert_exporter": "python",
   "pygments_lexer": "ipython3",
   "version": "3.8.3"
  }
 },
 "nbformat": 4,
 "nbformat_minor": 4
}
