{
 "cells": [
  {
   "cell_type": "markdown",
   "metadata": {},
   "source": [
    "# Words Analysis\n",
    "\n",
    "This analysis analyses collected text and meta-data from scientific articles about that mention ERPs.\n",
    "\n",
    "Available information includes the titles, words, and years of all those papers such that this data can be used for further analysis."
   ]
  },
  {
   "cell_type": "code",
   "execution_count": 1,
   "metadata": {},
   "outputs": [],
   "source": [
    "%matplotlib inline\n",
    "\n",
    "from collections import Counter\n",
    "\n",
    "import numpy as np\n",
    "\n",
    "from lisc import Words\n",
    "from lisc.data import ArticlesAll\n",
    "from lisc.data.utils import threshold_counter, combine_lists\n",
    "from lisc.utils import SCDB, load_object\n",
    "from lisc.utils.io import load_txt_file\n",
    "from lisc.plts.words import plot_years, plot_wordcloud\n",
    "from lisc.analysis.words import get_all_counts, get_all_values, get_attribute_counts"
   ]
  },
  {
   "cell_type": "code",
   "execution_count": 2,
   "metadata": {},
   "outputs": [],
   "source": [
    "import seaborn as sns\n",
    "sns.set_context('talk')"
   ]
  },
  {
   "cell_type": "code",
   "execution_count": 3,
   "metadata": {},
   "outputs": [],
   "source": [
    "# Import custom project code\n",
    "import sys\n",
    "sys.path.append('../code')\n",
    "from plts import plot_count_hist, plot_attrs_by_year"
   ]
  },
  {
   "cell_type": "markdown",
   "metadata": {},
   "source": [
    "## Setup"
   ]
  },
  {
   "cell_type": "code",
   "execution_count": 4,
   "metadata": {},
   "outputs": [],
   "source": [
    "# Settings\n",
    "SAVE_FIG = False"
   ]
  },
  {
   "cell_type": "code",
   "execution_count": 5,
   "metadata": {},
   "outputs": [],
   "source": [
    "# Set the file locations\n",
    "term_dir = '../terms/'\n",
    "figs_dir = '../data/figures/words'\n",
    "db = SCDB('../data/')"
   ]
  },
  {
   "cell_type": "code",
   "execution_count": 6,
   "metadata": {},
   "outputs": [],
   "source": [
    "# Set the name of the file to load\n",
    "name = 'erps' # 'erps', 'test'"
   ]
  },
  {
   "cell_type": "code",
   "execution_count": 7,
   "metadata": {},
   "outputs": [],
   "source": [
    "# Load the words object\n",
    "words = load_object('words_' + name, directory=db, reload_results=True)"
   ]
  },
  {
   "cell_type": "code",
   "execution_count": 8,
   "metadata": {},
   "outputs": [],
   "source": [
    "# Load exclusions for analysis\n",
    "exclusions = load_txt_file('analysis_exclusions.txt', term_dir, split_elements=False)"
   ]
  },
  {
   "cell_type": "markdown",
   "metadata": {},
   "source": [
    "### Check Database Information\n",
    "\n",
    "Check the metadata about the data collection, including checking the database data were collected from."
   ]
  },
  {
   "cell_type": "code",
   "execution_count": 9,
   "metadata": {},
   "outputs": [
    {
     "data": {
      "text/plain": [
       "{'dbname': 'pubmed',\n",
       " 'menuname': 'PubMed',\n",
       " 'description': 'PubMed bibliographic record',\n",
       " 'dbbuild': 'Build210530-1333.1',\n",
       " 'count': '32606554',\n",
       " 'lastupdate': '2021/05/30 18:23'}"
      ]
     },
     "execution_count": 9,
     "metadata": {},
     "output_type": "execute_result"
    }
   ],
   "source": [
    "# Check database scrape info\n",
    "words.meta_data.db_info"
   ]
  },
  {
   "cell_type": "code",
   "execution_count": 10,
   "metadata": {},
   "outputs": [
    {
     "data": {
      "text/plain": [
       "{'n_requests': 464,\n",
       " 'wait_time': 0.1,\n",
       " 'start_time': '02:22:27 Monday 31 May 2021',\n",
       " 'end_time': '02:54:32 Monday 31 May 2021',\n",
       " 'logging': 'file'}"
      ]
     },
     "execution_count": 10,
     "metadata": {},
     "output_type": "execute_result"
    }
   ],
   "source": [
    "# Check requester object info\n",
    "words.meta_data.requester"
   ]
  },
  {
   "cell_type": "code",
   "execution_count": 11,
   "metadata": {},
   "outputs": [],
   "source": [
    "# TEMP: update Articles objects for old collection\n",
    "for art in words.results:\n",
    "    art.processed = False"
   ]
  },
  {
   "cell_type": "markdown",
   "metadata": {},
   "source": [
    "## Data Organization"
   ]
  },
  {
   "cell_type": "code",
   "execution_count": 12,
   "metadata": {},
   "outputs": [],
   "source": [
    "# Process data to collapse across all articles\n",
    "words.process_combined_results()"
   ]
  },
  {
   "cell_type": "markdown",
   "metadata": {},
   "source": [
    "### Check Number of Articles"
   ]
  },
  {
   "cell_type": "code",
   "execution_count": 13,
   "metadata": {},
   "outputs": [
    {
     "name": "stdout",
     "output_type": "stream",
     "text": [
      "Number of ERPs: \t 90\n"
     ]
    }
   ],
   "source": [
    "# Check the number of ERPs \n",
    "print('Number of ERPs: \\t {}'.format(words.n_terms))"
   ]
  },
  {
   "cell_type": "code",
   "execution_count": 14,
   "metadata": {},
   "outputs": [
    {
     "name": "stdout",
     "output_type": "stream",
     "text": [
      "Number of articles: \t 32101\n"
     ]
    }
   ],
   "source": [
    "# Check the total number of articles in the collected dataset\n",
    "n_articles = [data.n_articles for data in words]\n",
    "total_article_count = sum(n_articles)\n",
    "print('Number of articles: \\t', total_article_count)"
   ]
  },
  {
   "cell_type": "code",
   "execution_count": 15,
   "metadata": {},
   "outputs": [
    {
     "data": {
      "image/png": "[encoded data removed]",
      "text/plain": [
       "<Figure size 432x360 with 1 Axes>"
      ]
     },
     "metadata": {
      "needs_background": "light"
     },
     "output_type": "display_data"
    }
   ],
   "source": [
    "# Plot the histogram of the number of ERP papers collected\n",
    "plot_count_hist(n_articles, log=True, bins=10, xlabel='Number of articles', ylabel='Count of ERP Components',\n",
    "                save_fig=SAVE_FIG, file_name='erp_hist.pdf', directory=figs_dir)"
   ]
  },
  {
   "cell_type": "code",
   "execution_count": 16,
   "metadata": {},
   "outputs": [],
   "source": [
    "# Collect all the DOIs across all papers\n",
    "dois = get_all_values(words, 'dois', unique=True)"
   ]
  },
  {
   "cell_type": "code",
   "execution_count": 17,
   "metadata": {},
   "outputs": [
    {
     "name": "stdout",
     "output_type": "stream",
     "text": [
      "Number of unique DOIs: \t 22171\n"
     ]
    }
   ],
   "source": [
    "# Check the number of unique papers, based on DOIs\n",
    "print('Number of unique DOIs: \\t', len(set(dois)))"
   ]
  },
  {
   "cell_type": "code",
   "execution_count": 18,
   "metadata": {},
   "outputs": [
    {
     "name": "stdout",
     "output_type": "stream",
     "text": [
      "P100 \t 1823\n",
      "P150 \t 203\n",
      "P170 \t 35\n",
      "P180 \t 84\n",
      "P200 \t 857\n",
      "P220 \t 46\n",
      "P230 \t 23\n",
      "P240 \t 31\n",
      "P250 \t 91\n",
      "P270 \t 17\n",
      "P300 \t 6190\n",
      "P3a \t 1016\n",
      "P3b \t 1064\n",
      "P340 \t 10\n",
      "P350 \t 72\n",
      "P400 \t 181\n",
      "P500 \t 62\n",
      "P550 \t 15\n",
      "P600 \t 718\n",
      "P900 \t 21\n",
      "N100 \t 1037\n",
      "N110 \t 23\n",
      "N120 \t 56\n",
      "N130 \t 39\n",
      "N135 \t 46\n",
      "N140 \t 178\n",
      "N150 \t 118\n",
      "N160 \t 57\n",
      "N170 \t 1379\n",
      "N180 \t 39\n",
      "N190 \t 25\n",
      "N200 \t 781\n",
      "N2a \t 149\n",
      "N2b \t 237\n",
      "N2c \t 35\n",
      "N2pc \t 506\n",
      "N240 \t 20\n",
      "N250 \t 270\n",
      "N270 \t 66\n",
      "N280 \t 23\n",
      "N290 \t 52\n",
      "N300 \t 196\n",
      "N320 \t 26\n",
      "N350 \t 83\n",
      "N400 \t 2597\n",
      "N450 \t 182\n",
      "N550 \t 50\n",
      "N600 \t 15\n",
      "N700 \t 18\n",
      "MMN \t 3673\n",
      "LPC \t 647\n",
      "LPP \t 949\n",
      "NSW \t 102\n",
      "PSW \t 112\n",
      "VPP \t 58\n",
      "CNV \t 1011\n",
      "PINV \t 33\n",
      "ELAN \t 33\n",
      "LAN \t 56\n",
      "CPS \t 37\n",
      "LRP \t 303\n",
      "LDN \t 37\n",
      "ORN \t 37\n",
      "BP \t 526\n",
      "ERN \t 1031\n",
      "Pe \t 307\n",
      "CRN \t 95\n",
      "MFN \t 97\n",
      "SPeN \t 126\n",
      "FRN \t 592\n",
      "Pd \t 24\n",
      "EDAN \t 22\n",
      "LDAP \t 15\n",
      "ADAN \t 29\n",
      "EPN \t 243\n",
      "SN \t 76\n",
      "SP \t 33\n",
      "SPN \t 19\n",
      "SPCN \t 41\n",
      "PCN \t 62\n",
      "VsEP \t 198\n",
      "MRPC \t 300\n",
      "FSP \t 20\n",
      "pN \t 23\n",
      "LPN \t 28\n",
      "LPoP \t 24\n",
      "EFN \t 10\n",
      "FN400 \t 168\n",
      "PMN \t 11\n",
      "VAN \t 31\n"
     ]
    }
   ],
   "source": [
    "# Check how many articles were found per ERP\n",
    "for data in words.results:\n",
    "    print(data.label, '\\t', data.n_articles)"
   ]
  },
  {
   "cell_type": "markdown",
   "metadata": {},
   "source": [
    "## Check Attribute Counts"
   ]
  },
  {
   "cell_type": "code",
   "execution_count": 19,
   "metadata": {},
   "outputs": [],
   "source": [
    "# Define a list of attributes to check\n",
    "attrs = ['words', 'keywords', 'authors', 'journals', 'dois', 'titles', 'years']"
   ]
  },
  {
   "cell_type": "code",
   "execution_count": 20,
   "metadata": {},
   "outputs": [
    {
     "name": "stdout",
     "output_type": "stream",
     "text": [
      "Attribute counts (total # articles: 32101):\n",
      "    31587 articles ( 98.40 %) have words.\n",
      "    10903 articles ( 33.96 %) have keywords.\n",
      "    32081 articles ( 99.94 %) have authors.\n",
      "    32101 articles (100.00 %) have journals.\n",
      "    29860 articles ( 93.02 %) have dois.\n",
      "    32101 articles (100.00 %) have titles.\n",
      "    32101 articles (100.00 %) have years.\n"
     ]
    }
   ],
   "source": [
    "# Check the proportion of papers, for each attribute, that has data\n",
    "print('Attribute counts (total # articles: {}):'.format(total_article_count))\n",
    "for attr in attrs:\n",
    "    count = get_attribute_counts(words, attr)\n",
    "    print('    {:5d} articles ({:6.2f} %) have {}.'.format(\\\n",
    "        count, count / total_article_count * 100, attr))"
   ]
  },
  {
   "cell_type": "markdown",
   "metadata": {},
   "source": [
    "### Check Years of Publication"
   ]
  },
  {
   "cell_type": "code",
   "execution_count": 21,
   "metadata": {},
   "outputs": [],
   "source": [
    "# Get global count of authors \n",
    "years = set(get_all_values(words, 'years'))\n",
    "min_year, max_year = min(years), max(years)"
   ]
  },
  {
   "cell_type": "code",
   "execution_count": 22,
   "metadata": {},
   "outputs": [
    {
     "name": "stdout",
     "output_type": "stream",
     "text": [
      "Collected papers were published between the years: 1963-2021\n"
     ]
    }
   ],
   "source": [
    "# Print out summary of the year range of publications\n",
    "print('Collected papers were published between the years: {}-{}'.format(min_year, max_year))"
   ]
  },
  {
   "cell_type": "code",
   "execution_count": 23,
   "metadata": {},
   "outputs": [],
   "source": [
    "# Get the count of articles per year, and drop 2021 (incomplete year)\n",
    "year_counts = get_all_counts(words, 'years', combine=True)\n",
    "year_counts.pop(2021);"
   ]
  },
  {
   "cell_type": "code",
   "execution_count": 24,
   "metadata": {},
   "outputs": [
    {
     "data": {
      "image/png": "[encoded data removed]",
      "text/plain": [
       "<Figure size 432x360 with 1 Axes>"
      ]
     },
     "metadata": {
      "needs_background": "light"
     },
     "output_type": "display_data"
    }
   ],
   "source": [
    "# Plot the total number of articles, across components, per year\n",
    "plot_years(year_counts, figsize=(6, 5),\n",
    "           save_fig=SAVE_FIG, file_name='words_year_counts.pdf', directory=figs_dir)"
   ]
  },
  {
   "cell_type": "markdown",
   "metadata": {},
   "source": [
    "### Check number of distinct components studies per year"
   ]
  },
  {
   "cell_type": "code",
   "execution_count": 25,
   "metadata": {},
   "outputs": [],
   "source": [
    "# Collect the set of years each component was studied in\n",
    "comp_years_all = {}\n",
    "for label, res in zip(words.labels, words.results):\n",
    "    comp_years_all[label] = set(res.years)"
   ]
  },
  {
   "cell_type": "code",
   "execution_count": 26,
   "metadata": {},
   "outputs": [],
   "source": [
    "# Collect the number of unique components studied per year\n",
    "comp_years = {}\n",
    "for year in range(min(years), max(years)):\n",
    "    count = 0\n",
    "    for temp in comp_years_all.values():\n",
    "        count += 1 if year in temp else 0\n",
    "    comp_years[year] = count"
   ]
  },
  {
   "cell_type": "code",
   "execution_count": 27,
   "metadata": {},
   "outputs": [
    {
     "data": {
      "image/png": "[encoded data removed]",
      "text/plain": [
       "<Figure size 432x360 with 1 Axes>"
      ]
     },
     "metadata": {
      "needs_background": "light"
     },
     "output_type": "display_data"
    }
   ],
   "source": [
    "# Plot the number of unique components studied per year\n",
    "plot_years(comp_years, ylabel='Unique Components', figsize=(6, 5),\n",
    "           save_fig=SAVE_FIG, file_name='words_year_components.pdf', directory=figs_dir)"
   ]
  },
  {
   "cell_type": "markdown",
   "metadata": {},
   "source": [
    "### Check Authors across all papers"
   ]
  },
  {
   "cell_type": "code",
   "execution_count": 28,
   "metadata": {},
   "outputs": [],
   "source": [
    "# Get global count of authors \n",
    "author_counts = get_all_counts(words, 'authors', combine=True)"
   ]
  },
  {
   "cell_type": "code",
   "execution_count": 29,
   "metadata": {},
   "outputs": [
    {
     "name": "stdout",
     "output_type": "stream",
     "text": [
      "Total number of authors   :\t 46300\n",
      "Number of authors > 10   :\t  2502\n",
      "Number of authors > 100  :\t    32\n"
     ]
    }
   ],
   "source": [
    "# Check the number of unique authors\n",
    "print('Total number of authors   :\\t {:5d}'.format(len(author_counts)))\n",
    "print('Number of authors > 10   :\\t {:5d}'.format(len(threshold_counter(author_counts, 10))))\n",
    "print('Number of authors > 100  :\\t {:5d}'.format(len(threshold_counter(author_counts, 100))))"
   ]
  },
  {
   "cell_type": "code",
   "execution_count": 30,
   "metadata": {},
   "outputs": [
    {
     "name": "stdout",
     "output_type": "stream",
     "text": [
      "Most common authors:\n",
      "    Näätänen R      \t 330\n",
      "    Wang Y          \t 277\n",
      "    Hajcak G        \t 209\n",
      "    Schröger E      \t 199\n",
      "    Zhang Y         \t 194\n",
      "    Holcomb PJ      \t 187\n",
      "    Li H            \t 184\n",
      "    Polich J        \t 184\n",
      "    Wang L          \t 168\n",
      "    Friederici AD   \t 168\n"
     ]
    }
   ],
   "source": [
    "# Check the most common authors\n",
    "print('Most common authors:')\n",
    "for (author, count) in author_counts.most_common(10):\n",
    "    print('    {:15s} \\t {}'.format(' '.join(author), count))"
   ]
  },
  {
   "cell_type": "markdown",
   "metadata": {},
   "source": [
    "### Check Journals across all papers"
   ]
  },
  {
   "cell_type": "code",
   "execution_count": 31,
   "metadata": {},
   "outputs": [],
   "source": [
    "# Get global count of journals\n",
    "journals_counts = get_all_counts(words, 'journals', combine=True)"
   ]
  },
  {
   "cell_type": "code",
   "execution_count": 32,
   "metadata": {},
   "outputs": [
    {
     "name": "stdout",
     "output_type": "stream",
     "text": [
      "Total number of journals  :\t  2308\n",
      "Number of journals > 10   :\t   353\n",
      "Number of journals > 100  :\t    51\n"
     ]
    }
   ],
   "source": [
    "# Check the number of unique authors\n",
    "print('Total number of journals  :\\t {:5d}'.format(len(journals_counts)))\n",
    "print('Number of journals > 10   :\\t {:5d}'.format(len(threshold_counter(journals_counts, 10))))\n",
    "print('Number of journals > 100  :\\t {:5d}'.format(len(threshold_counter(journals_counts, 100))))"
   ]
  },
  {
   "cell_type": "code",
   "execution_count": 33,
   "metadata": {},
   "outputs": [
    {
     "name": "stdout",
     "output_type": "stream",
     "text": [
      "Most common journals:\n",
      "    Psychophysiology                                        \t 1575\n",
      "    International journal of psychophysiology               \t 1192\n",
      "    Neuropsychologia                                        \t 1016\n",
      "    Biological psychology                                   \t 1001\n",
      "    Clinical neurophysiology                                \t 945\n",
      "    Brain research                                          \t 830\n",
      "    Neuroreport                                             \t 742\n",
      "    PloS one                                                \t 725\n",
      "    Journal of cognitive neuroscience                       \t 715\n",
      "    Neuroscience letters                                    \t 677\n"
     ]
    }
   ],
   "source": [
    "# Check the most common journals\n",
    "print('Most common journals:')\n",
    "for (journal, count) in journals_counts.most_common(10):\n",
    "    print('    {:55s} \\t {}'.format(journal.split(':')[0], count))"
   ]
  },
  {
   "cell_type": "markdown",
   "metadata": {},
   "source": [
    "### Keywords"
   ]
  },
  {
   "cell_type": "code",
   "execution_count": 34,
   "metadata": {},
   "outputs": [],
   "source": [
    "# Get global count of authors \n",
    "kw_counts = get_all_counts(words, 'keywords', combine=True)"
   ]
  },
  {
   "cell_type": "code",
   "execution_count": 35,
   "metadata": {},
   "outputs": [
    {
     "name": "stdout",
     "output_type": "stream",
     "text": [
      "Total number of keywords   :\t 14956\n",
      "Number of keywords > 10    :\t   756\n",
      "Number of keywords > 100   :\t    43\n"
     ]
    }
   ],
   "source": [
    "# Check the number of unique keywords\n",
    "print('Total number of keywords   :\\t {:5d}'.format(len(kw_counts)))\n",
    "print('Number of keywords > 10    :\\t {:5d}'.format(len(threshold_counter(kw_counts, 10))))\n",
    "print('Number of keywords > 100   :\\t {:5d}'.format(len(threshold_counter(kw_counts, 100))))"
   ]
  },
  {
   "cell_type": "code",
   "execution_count": 36,
   "metadata": {},
   "outputs": [
    {
     "name": "stdout",
     "output_type": "stream",
     "text": [
      "Most common keywords:\n",
      "    event-related potentials \t 1491\n",
      "    erp                  \t 1230\n",
      "    eeg                  \t 1021\n",
      "    erps                 \t 789\n",
      "    attention            \t 685\n",
      "    event-related potential \t 603\n",
      "    emotion              \t 476\n",
      "    p300                 \t 469\n",
      "    schizophrenia        \t 409\n",
      "    electroencephalography \t 333\n"
     ]
    }
   ],
   "source": [
    "# Check the most common keywords across all components\n",
    "print('Most common keywords:')\n",
    "for (kw, count) in kw_counts.most_common(10):\n",
    "    print('    {:20s} \\t {}'.format(kw, count))"
   ]
  },
  {
   "cell_type": "code",
   "execution_count": 37,
   "metadata": {},
   "outputs": [
    {
     "name": "stdout",
     "output_type": "stream",
     "text": [
      "P100  : visual evoked potentials, visual evoked potential, event-related potentials, n170, eeg\n",
      "P150  : event-related potentials, aging, erps, congenital hypothyroidism, iodine diet\n",
      "P170  : attention, event-related potential, hearing loss, neural mechanism, visual compensatory\n",
      "P180  : transcranial magnetic stimulation, tms-eeg, electroencephalography, tms-evoked potentials, dorsolateral prefrontal cortex\n",
      "P200  : event-related potentials, erp, erps, eeg, n400\n",
      "P220  : complexity, event-related potentials, fraser spiral illusion, illusion, shape perception\n",
      "P230  : confabulation, desynchronization, face recognition, memory schema, theta coherence\n",
      "P240  : eeg, somatosensory cortex, touch, igg-type autoantibody, apolipoprotein b-100\n",
      "P250  : erps, n170, p100, mlpa, 22q11.2 variation\n",
      "P270  : directed transfer function/adaptive directed transfer function, stereoscopic depth, visual discomfort, visual evoked potential, face\n",
      "P300  : event-related potentials, erp, eeg, attention, event-related potential\n",
      "P3a   : event-related potentials, attention, p300, eeg, mismatch negativity\n",
      "P3b   : p300, event-related potentials, attention, erp, eeg\n",
      "P340  : auditory processing, eeg, late discriminative negativity (ldn), mismatch negativity (mmn), n250\n",
      "P350  : erps, eye gaze, joint attention, social interaction, virtual reality\n",
      "P400  : infancy, erp, event-related potentials, erps, face processing\n",
      "P500  : asia, developing countries, philippines, southeastern asia, artificial neural network\n",
      "P550  : common region, erp, extrinsic grouping, loreta, perceptual grouping\n",
      "P600  : n400, erp, event-related potentials, erps, syntax\n",
      "P900  : k-complex, consciousness, down state, gamma activity, sensory processing\n",
      "N100  : event-related potentials, eeg, electroencephalography, schizophrenia, erp\n",
      "N110  : erp, empathy, pain, adenocarcinoma of the esophagogastric junction, laparoscopic surgery\n",
      "N120  : attention, movement, cortical reactivity, transcranial direct current stimulation, evoked potentials\n",
      "N130  : erp, affordances, attention, grasp, mirror neuron\n",
      "N135  : visual evoked potential, visual evoked potentials, neural conductivity, acute lymphoblastic leukemia, children\n",
      "N140  : p300, event-related potentials, eeg, erp, somatosensory-evoked potentials\n",
      "N150  : event-related potentials, visual evoked potentials, c1, evoked potentials, somatosensory evoked potentials\n",
      "N160  : dorsal attention network, effective connectivity, executive control network, neuroplasticity, visual working memory training\n",
      "N170  : erp, event-related potentials, face processing, eeg, emotion\n",
      "N180  : n400, auditory word categorization, embodied cognition, language perception, multimodal representation\n",
      "N190  : p3, readiness potential, self-other distinction, early posterior negativity (epn), visual structural encoding\n",
      "N200  : event-related potentials, p300, erp, eeg, erps\n",
      "N2a   : autophagy, alzheimer’s disease, p3, tri-ortho-cresyl phosphate (tocp), memory\n",
      "N2b   : erps, event-related potentials, p3, attention, principal components analysis (pca)\n",
      "N2c   : principal components analysis (pca), event-related potentials (erps), cognitive control, equiprobable go/no-go task, erps\n",
      "N2pc  : attention, visual search, erp, eeg, attentional capture\n",
      "N240  : event-related potentials, nociception, touch, intravenous infusion, laparoscopic cholecystectomy\n",
      "N250  : n170, event-related potentials, erp, face recognition, n400\n",
      "N270  : event-related potential (erp), change detection, brand extension, stereotype, n400\n",
      "N280  : transcranial magnetic stimulation, cortical reactivity, electroencephalography, motor cortex excitability, source localization\n",
      "N290  : event-related potentials, infants, face processing, infancy, erp\n",
      "N300  : erps, event-related potentials, eeg, n400, erp\n",
      "N320  : bacterial community, carbon dioxide, greenhouse gases, n fertilization, nitrous oxide\n",
      "N350  : event-related potentials, erp, erps, sleep, brain-computer interface\n",
      "N400  : event-related potentials, erps, erp, p600, eeg\n",
      "N450  : event-related potentials, erp, cognitive control, erps, stroop\n",
      "N550  : k-complex, consciousness, down state, gamma activity, sensory processing\n",
      "N600  : electron transfer, exciplex, femtosecond absorption spectroscopy, photosynthesis, primary charge separation\n",
      "N700  : event-related potential, imageability, n400, autism spectrum disorder, eeg\n",
      "MMN   : mismatch negativity (mmn), schizophrenia, eeg, event-related potentials, erp\n",
      "LPC   : event-related potentials, n400, erp, erps, eeg\n",
      "LPP   : emotion, event-related potentials, erp, emotion regulation, attention\n",
      "NSW   : working memory, attention, erp, event-related potentials, eeg\n",
      "PSW   : event-related potentials, erp, erps, working memory, slow wave\n",
      "VPP   : n170, event-related potentials, face processing, erps, face\n",
      "CNV   : eeg, event-related potentials, erp, event-related potential, attention\n",
      "PINV  : control, emotion, event-related potential (erp), international affective picture system (iaps), late positive potential (lpp)\n",
      "ELAN  : language, eeg, auditory system, disorders of consciousness, event-related potentials\n",
      "LAN   : erp, p600, n400, event-related potentials, eeg\n",
      "CPS   : closure positive shift (cps), prosody, event-related potentials (erp), prosodic boundary cues, prosody processing\n",
      "LRP   : eeg, event-related potentials, erps, event-related potential, attention\n",
      "LDN   : mismatch negativity, children, mmn, p3a, dyslexia\n",
      "ORN   : auditory scene analysis, object-related negativity (orn), concurrent sound segregation, binaural processing, electroencephalography\n",
      "BP    : eeg, volition, free will, erp, voluntary action\n",
      "ERN   : error-related negativity, performance monitoring, event-related potentials, eeg, cognitive control\n",
      "Pe    : error-related negativity, performance monitoring, error processing, event-related potentials, cognitive control\n",
      "CRN   : error-related negativity, performance monitoring, ern, error positivity, error-related negativity (ern)\n",
      "MFN   : erp, ultimatum game, event-related potentials, cognitive control, eeg\n",
      "SPeN  : stimulus-preceding negativity, event-related potentials, feedback-related negativity, reward, anticipation\n",
      "FRN   : feedback-related negativity, feedback-related negativity (frn), p300, p3, erp\n",
      "Pd    : n2pc, suppression, visual search, eeg, visual attention\n",
      "EDAN  : adan, spatial attention, attention, erps, n2pc\n",
      "LDAP  : attention, erps, spatial neglect, beta-band, cnv\n",
      "ADAN  : attention, edan, erps, spatial attention, eeg\n",
      "EPN   : emotion, erp, early posterior negativity (epn), attention, event-related potentials\n",
      "SN    : erp, attention, selective attention, category learning, swloreta\n",
      "SP    : visual attention, attention-deficit/hyperactivity disorder, p300, contingent negative variation, electroencephalography\n",
      "SPN   : symmetry, erps, holographic model, perceptual goodness, event-related potentials\n",
      "SPCN  : attention, n2pc, eeg, visual working memory, erps\n",
      "PCN   : attention, n2pc, eeg, spcn, visual search\n",
      "VsEP  : non-nasa center, vestibular, nasa discipline neuroscience, utricle, vestibular system\n",
      "MRPC  : movement-related cortical potential, eeg, movement-related cortical potentials, electroencephalography (eeg), brain-computer interface\n",
      "FSP   : attention-deficit/hyperactivity disorder, p300, contingent negative variation, electroencephalography, theta activity\n",
      "pN    : erp, bereitschaftspotential, eeg, motor behavior, event-related potentials\n",
      "LPN   : event-related potentials, source memory, eeg, item memory, episodic memory\n",
      "LPoP  : erp, erps, n400, event-related potentials, eeg oscillations\n",
      "EFN   : cognition, eeg, learning, adolescence, attention\n",
      "FN400 : familiarity, event-related potentials, recollection, erp, recognition memory\n",
      "PMN   : n400, bilingualism, event related potentials, phonological competition, second language processing\n",
      "VAN   : consciousness, eeg, awareness, inattentional blindness, late positivity\n"
     ]
    }
   ],
   "source": [
    "# Check most common keywords per component\n",
    "for data in words.combined_results:\n",
    "    data.check_frequencies('keywords', n_check=5)"
   ]
  },
  {
   "cell_type": "markdown",
   "metadata": {},
   "source": [
    "### Abstract Words"
   ]
  },
  {
   "cell_type": "code",
   "execution_count": 38,
   "metadata": {},
   "outputs": [],
   "source": [
    "# Get global count of words \n",
    "word_counts = get_all_counts(words, 'words', combine=True)"
   ]
  },
  {
   "cell_type": "code",
   "execution_count": 39,
   "metadata": {},
   "outputs": [
    {
     "name": "stdout",
     "output_type": "stream",
     "text": [
      "Total number of words   :\t 94931\n",
      "Number of words > 100   :\t  4327\n",
      "Number of words > 1000  :\t   740\n"
     ]
    }
   ],
   "source": [
    "# Check the number of unique words\n",
    "print('Total number of words   :\\t {:5d}'.format(len(word_counts)))\n",
    "print('Number of words > 100   :\\t {:5d}'.format(len(threshold_counter(word_counts, 100))))\n",
    "print('Number of words > 1000  :\\t {:5d}'.format(len(threshold_counter(word_counts, 1000))))"
   ]
  },
  {
   "cell_type": "code",
   "execution_count": 40,
   "metadata": {},
   "outputs": [
    {
     "name": "stdout",
     "output_type": "stream",
     "text": [
      "Most common words:\n",
      "    processing           \t 26386\n",
      "    patients             \t 24134\n",
      "    amplitude            \t 20001\n",
      "    study                \t 19923\n",
      "    task                 \t 19040\n",
      "    results              \t 18993\n",
      "    stimuli              \t 18941\n",
      "    erp                  \t 17705\n",
      "    potentials           \t 17187\n",
      "    event-related        \t 16521\n"
     ]
    }
   ],
   "source": [
    "# Check the most common keywords across all components\n",
    "print('Most common words:')\n",
    "for (word, count) in word_counts.most_common(10):\n",
    "    print('    {:20s} \\t {}'.format(word, count))"
   ]
  },
  {
   "cell_type": "code",
   "execution_count": 41,
   "metadata": {},
   "outputs": [
    {
     "name": "stdout",
     "output_type": "stream",
     "text": [
      "P100  : visual, patients, vep, latency, evoked\n",
      "P150  : cells, patients, two, processing, study\n",
      "P170  : control, components, potentials, visual, cortex\n",
      "P180  : cells, cortex, patients, cortical, potentials\n",
      "P200  : patients, processing, p300, amplitude, erp\n",
      "P220  : cells, amplitude, de, potentials, components\n",
      "P230  : ms, components, differences, stimuli, visual\n",
      "P240  : amplitude, stimuli, potentials, stimulus, processing\n",
      "P250  : patients, processing, components, amplitude, task\n",
      "P270  : stimuli, stimulus, stimulation, amplitude, components\n",
      "P300  : patients, amplitude, study, latency, cognitive\n",
      "P3a   : stimuli, auditory, patients, p3b, processing\n",
      "P3b   : task, processing, stimuli, p3a, amplitude\n",
      "P340  : pain, seps, patients, potentials, training\n",
      "P350  : erps, erp, processing, stimuli, components\n",
      "P400  : faces, infants, amplitude, stimuli, processing\n",
      "P500  : p, erp, subjects, different, two\n",
      "P550  : subjects, task, sounds, larger, group\n",
      "P600  : processing, syntactic, semantic, sentences, n400\n",
      "P900  : sleep, n550, 2, k-complex, stage\n",
      "N100  : auditory, patients, amplitude, p300, subjects\n",
      "N110  : pain, empathy, potentials, nerve, stimulation\n",
      "N120  : patients, potentials, amplitude, somatosensory, stimuli\n",
      "N130  : evoked, components, amplitude, potentials, attention\n",
      "N135  : visual, vep, p100, patients, group\n",
      "N140  : somatosensory, stimuli, attention, processing, potentials\n",
      "N150  : pain, stimuli, potentials, components, visual\n",
      "N160  : visual, amplitude, potentials, stimuli, processing\n",
      "N170  : faces, face, processing, facial, erp\n",
      "N180  : visual, stimuli, potentials, areas, recorded\n",
      "N190  : body, processing, stimuli, visual, motor\n",
      "N200  : p300, patients, amplitude, erp, processing\n",
      "N2a   : cells, patients, activity, results, showed\n",
      "N2b   : stimuli, auditory, processing, attention, task\n",
      "N2c   : task, response, processing, components, one\n",
      "N2pc  : attention, target, attentional, visual, search\n",
      "N240  : stimuli, potentials, evoked, patients, component\n",
      "N250  : faces, face, processing, erp, effects\n",
      "N270  : conflict, condition, processing, visual, different\n",
      "N280  : words, processing, elicited, group, ms\n",
      "N290  : faces, infants, face, processing, erp\n",
      "N300  : processing, erp, components, erps, study\n",
      "N320  : words, task, orthographic, results, erps\n",
      "N350  : sleep, amplitude, stimuli, erps, processing\n",
      "N400  : semantic, words, processing, word, effect\n",
      "N450  : conflict, task, control, processing, cognitive\n",
      "N550  : sleep, k-complex, amplitude, stimuli, evoked\n",
      "N600  : processing, negative, positive, erp, results\n",
      "N700  : words, visual, stimulus, concrete, stimuli\n",
      "MMN   : auditory, patients, mismatch, negativity, processing\n",
      "LPC   : positive, late, component, processing, task\n",
      "LPP   : emotional, positive, potential, late, processing\n",
      "NSW   : negative, slow, wave, memory, task\n",
      "PSW   : positive, slow, wave, processing, memory\n",
      "VPP   : faces, processing, potential, face, facial\n",
      "CNV   : negative, variation, contingent, patients, task\n",
      "PINV  : cnv, negative, patients, variation, amplitude\n",
      "ELAN  : syntactic, early, negativity, left, anterior\n",
      "LAN   : processing, negativity, syntactic, words, semantic\n",
      "CPS   : prosodic, boundary, boundaries, processing, phrase\n",
      "LRP   : response, motor, potential, task, lateralized\n",
      "LDN   : children, mmn, negativity, auditory, speech\n",
      "ORN   : auditory, sound, sounds, concurrent, segregation\n",
      "BP    : motor, movement, potential, movements, potentials\n",
      "ERN   : error, negativity, task, error-related, monitoring\n",
      "Pe    : error, ern, task, monitoring, performance\n",
      "CRN   : ern, negativity, monitoring, error, task\n",
      "MFN   : frontal, negativity, medial, participants, offers\n",
      "SPeN  : spn, reward, negativity, anticipation, task\n",
      "FRN   : feedback, negativity, task, processing, reward\n",
      "Pd    : distractor, attentional, target, suppression, attention\n",
      "EDAN  : attention, orienting, directing, cues, negativity\n",
      "LDAP  : attention, orienting, directing, spatial, late\n",
      "ADAN  : attention, negativity, spatial, directing, cues\n",
      "EPN   : emotional, processing, early, pictures, neutral\n",
      "SN    : selection, attention, visual, processing, stimuli\n",
      "SP    : selection, attention, visual, target, processing\n",
      "SPN   : symmetry, patterns, visual, regularity, participants\n",
      "SPCN  : memory, visual, attention, contralateral, n2pc\n",
      "PCN   : visual, attention, spcn, memory, target\n",
      "VsEP  : vestibular, evoked, potentials, response, responses\n",
      "MRPC  : movement, motor, cortical, mrcp, movements\n",
      "FSP   : selection, attention, visual, target, frontal\n",
      "pN    : prefrontal, activity, task, components, negativity\n",
      "LPN   : memory, erp, source, negativity, retrieval\n",
      "LPoP  : late, processing, words, posterior, positivity\n",
      "EFN   : negativity, language, early, processing, frontal\n",
      "FN400 : memory, recognition, effect, familiarity, erp\n",
      "PMN   : phonological, processing, n400, language, group\n",
      "VAN   : awareness, visual, task, stimulus, negativity\n"
     ]
    }
   ],
   "source": [
    "# Check most common words\n",
    "for data in words.combined_results:\n",
    "    data.check_frequencies('words', n_check=5)"
   ]
  },
  {
   "cell_type": "markdown",
   "metadata": {},
   "source": [
    "## Check Values by Year"
   ]
  },
  {
   "cell_type": "code",
   "execution_count": 42,
   "metadata": {},
   "outputs": [],
   "source": [
    "# Extract lists of all values for attributes of interest\n",
    "all_years = get_all_values(words, 'years')\n",
    "all_journals = get_all_values(words, 'journals')\n",
    "all_authors = get_all_values(words, 'authors')"
   ]
  },
  {
   "cell_type": "code",
   "execution_count": 43,
   "metadata": {},
   "outputs": [],
   "source": [
    "# Collect the number of unique journals & authors by year\n",
    "journals_by_year = {}\n",
    "authors_by_year = {}\n",
    "for year in range(min_year, max_year):\n",
    "    inds = np.where(np.array(all_years) == year)[0]\n",
    "    journals_by_year[year] = len(set(np.array(all_journals)[inds]))\n",
    "    authors_by_year[year] = len(set(combine_lists([all_authors[ind] for ind in inds])))"
   ]
  },
  {
   "cell_type": "code",
   "execution_count": 44,
   "metadata": {},
   "outputs": [
    {
     "data": {
      "image/png": "[encoded data removed]",
      "text/plain": [
       "<Figure size 432x360 with 2 Axes>"
      ]
     },
     "metadata": {
      "needs_background": "light"
     },
     "output_type": "display_data"
    }
   ],
   "source": [
    "# Plot unique journals & authors by year\n",
    "plot_attrs_by_year(journals_by_year, authors_by_year, figsize=(6, 5),\n",
    "                   save_fig=SAVE_FIG, file_name='words_attr_year.pdf', directory=figs_dir)"
   ]
  },
  {
   "cell_type": "markdown",
   "metadata": {},
   "source": [
    "## Example Component Summaries"
   ]
  },
  {
   "cell_type": "code",
   "execution_count": 48,
   "metadata": {},
   "outputs": [
    {
     "name": "stdout",
     "output_type": "stream",
     "text": [
      "P600 :\n",
      "  Number of articles: \t\t 718\n",
      "  First publication: \t\t 1976\n",
      "  Most common author: \t\t Friederici AD\n",
      "    number of publications: \t 42\n",
      "  Most common journal: \t\t Brain research\n",
      "    number of publications: \t 60 \n",
      "\n"
     ]
    }
   ],
   "source": [
    "# Check an example summary\n",
    "ind = 18\n",
    "words.combined_results[ind].create_summary()\n",
    "words.combined_results[ind].print_summary()"
   ]
  },
  {
   "cell_type": "markdown",
   "metadata": {},
   "source": [
    "### WordCloud Plots"
   ]
  },
  {
   "cell_type": "code",
   "execution_count": 49,
   "metadata": {},
   "outputs": [
    {
     "data": {
      "image/png": "[encoded data removed]",
      "text/plain": [
       "<Figure size 576x576 with 1 Axes>"
      ]
     },
     "metadata": {
      "needs_background": "light"
     },
     "output_type": "display_data"
    }
   ],
   "source": [
    "# Create a wordcloud\n",
    "plot_wordcloud(words.combined_results[ind].words, 20)"
   ]
  },
  {
   "cell_type": "markdown",
   "metadata": {},
   "source": [
    "### Data Plots"
   ]
  },
  {
   "cell_type": "code",
   "execution_count": 50,
   "metadata": {},
   "outputs": [
    {
     "data": {
      "image/png": "[encoded data removed]",
      "text/plain": [
       "<Figure size 720x360 with 1 Axes>"
      ]
     },
     "metadata": {
      "needs_background": "light"
     },
     "output_type": "display_data"
    }
   ],
   "source": [
    "# Check an example history plot\n",
    "plot_years(words.combined_results[ind].years, [None, 2020])"
   ]
  }
 ],
 "metadata": {
  "anaconda-cloud": {},
  "kernelspec": {
   "display_name": "Python 3",
   "language": "python",
   "name": "python3"
  },
  "language_info": {
   "codemirror_mode": {
    "name": "ipython",
    "version": 3
   },
   "file_extension": ".py",
   "mimetype": "text/x-python",
   "name": "python",
   "nbconvert_exporter": "python",
   "pygments_lexer": "ipython3",
   "version": "3.8.3"
  }
 },
 "nbformat": 4,
 "nbformat_minor": 1
}
