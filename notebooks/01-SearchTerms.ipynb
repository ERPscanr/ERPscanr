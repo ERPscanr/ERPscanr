{
 "cells": [
  {
   "cell_type": "markdown",
   "metadata": {},
   "source": [
    "# Search Terms\n",
    "\n",
    "This project starts with curated collections of terms, including ERP terms, and potential associations, such as cognitive and disease terms. Automated literature collection then collects information from papers using those terms, using [LISC](https://lisc-tools.github.io/). \n",
    "\n",
    "Current analysis takes two forms:\n",
    "- `Words` analyses: analyses text data from articles that discuss ERP related research\n",
    "    - This approach collects text and metadata from papers, and builds data driven profiles for ERP components\n",
    "- `Count` analyses: searches for co-occurences of terms, between ERPs and associated terms\n",
    "    - This approach looks for patterns based on how commonly terms occur together\n",
    "\n",
    "This notebook introduces the terms that are used in the project."
   ]
  },
  {
   "cell_type": "code",
   "execution_count": 1,
   "metadata": {},
   "outputs": [],
   "source": [
    "from collections import Counter\n",
    "\n",
    "# Import Base LISC object to load and check search terms\n",
    "from lisc.objects.base import Base\n",
    "from lisc.utils.io import load_txt_file"
   ]
  },
  {
   "cell_type": "code",
   "execution_count": 2,
   "metadata": {},
   "outputs": [],
   "source": [
    "import seaborn as sns\n",
    "sns.set_context('talk')"
   ]
  },
  {
   "cell_type": "code",
   "execution_count": 3,
   "metadata": {},
   "outputs": [],
   "source": [
    "# Import custom project code\n",
    "import sys\n",
    "sys.path.append('../code')\n",
    "from plts import plot_latencies"
   ]
  },
  {
   "cell_type": "code",
   "execution_count": 4,
   "metadata": {},
   "outputs": [],
   "source": [
    "# Set the location of the terms\n",
    "term_dir = '../terms/'"
   ]
  },
  {
   "cell_type": "code",
   "execution_count": 5,
   "metadata": {},
   "outputs": [],
   "source": [
    "# Load a test object to check the terms\n",
    "erps = Base()"
   ]
  },
  {
   "cell_type": "markdown",
   "metadata": {},
   "source": [
    "## ERP Terms"
   ]
  },
  {
   "cell_type": "code",
   "execution_count": 6,
   "metadata": {
    "scrolled": true
   },
   "outputs": [],
   "source": [
    "# Load erps and labels terms from file\n",
    "erps.add_terms('erps.txt', directory=term_dir)\n",
    "erps.add_labels('erp_labels.txt', directory=term_dir)"
   ]
  },
  {
   "cell_type": "code",
   "execution_count": 7,
   "metadata": {},
   "outputs": [
    {
     "name": "stdout",
     "output_type": "stream",
     "text": [
      "Number of ERP terms: 98\n"
     ]
    }
   ],
   "source": [
    "# Check the number of ERP terms\n",
    "print('Number of ERP terms: {}'.format(erps.n_terms))"
   ]
  },
  {
   "cell_type": "code",
   "execution_count": 8,
   "metadata": {},
   "outputs": [],
   "source": [
    "# Add exclusion words\n",
    "erps.add_terms('erps_exclude.txt', term_type='exclusions', directory=term_dir)"
   ]
  },
  {
   "cell_type": "code",
   "execution_count": 9,
   "metadata": {
    "scrolled": false
   },
   "outputs": [
    {
     "name": "stdout",
     "output_type": "stream",
     "text": [
      "List of exclusions used: \n",
      "\n",
      "P100   : gene, virus, protein, proteins, cancer, acid, skin, cytokine, bacteria, respirators, amino, transcription, antibody\n",
      "P110   : protein, proteins, cancer, genetics, cell, postnatal, carbon, insulin, kinase, RNA, HIV, nanoparticle, probiotics, lymphoma, CO2, sequencing, peptide, amino\n",
      "P120   : cancer, protein, proteins, tumor, cell, cells, laser, virus, gene, hormonal, mice, exercise, postnatal, molecular, particle, plasmid, inflammation, pregnancy, hydrolase, oxidative, glucose, QRS, bone, cadherin, Wnt, platelet, RNA\n",
      "P150   : protein, proteins, cell, dna, dynein, adhesion, cardiac, dynactin, phosphatidylcholines, phosphorus, metabolite, pregabalin, genes, molecular, vaccine\n",
      "P160   : proteins, protein, peptide, tumor, cancer, steroid, gene, genetics, cell, vascular, platelets, phosphorus, postnatal, metabolic, estrogen, kinase\n",
      "P170   : protein, proteins, topoisomerase, cancer, virus, kinase, cells, leukemia, lactic, lactis, thyroid, chromosome, cDNAs\n",
      "P180   : protein, proteins, serum, plasma, rat, mice, feline, dna, cd45, polymerase, chromatin, metabolomics, antibodies, lymphocyte, glycoprotein\n",
      "P190   : protein, proteins, molecular, cell, leukemia, bacteria, plasmodium, polymerase, fibroblasts, chromosome\n",
      "P200   : gene, protein, proteins, antibody, antibodies, phosphate, pemphigoid, microscopy, ultrasonic, polypeptides, virus, biochars, cholesterol\n",
      "P220   : protein, proteins, dna, postnatal, lymphocytes, antigen, polypeptides, cDNA, glucose, antibody, mortality, cancer, biaxiality, embryonic, mutations, HeLa, dexamethasone\n",
      "P230   : leukemia, golgin, protein, transcripts, cells, genes, cytokine, metabolic, infections, enzyme, cryosection, amino, DNA, transgenic, oncogene, spectrophotometric\n",
      "P240   : gene, protein, muscle, rat, cells, bacteria, antibodies, immunization, hypoxia, biosynthesis\n",
      "P250   : protein, cell, postnatal, antigen, polymerase, velocardiofacial, gene, injection, MLPA, congenital\n",
      "P260   : protein, proteins, butanol, antibodies\n",
      "P270   : protein, proteins, promoter, rna, antigen, insulin, influenza, hormones, transmembrane, mortality, phenylketonuria, ARID\n",
      "P300   : gene, protein, proteins, transcription, antibody, tumor, battery, epithelial, apoptosis, virus, histone, cancer, carcinoma, DNA, RNA, immune, oxidative\n",
      "P3a    : protein, proteins, DNA, bacteria, ATPase, vacuoles, cancer, thymus, mRNA\n",
      "P3b    : protein, proteins, DNA, bacteria, cancer\n",
      "P340   : molecular, antibodies, protein, autophagy\n",
      "P350   : protein, spectrophotometry, virus, peptide, HeLa\n",
      "P400   : protein, proteins, h2a.z, histone, genes, enzymes, peroxidation, endonuclease, congenital, mycetoma, tumor, acid, inositol\n",
      "P500   : protein, index, financial, cell, spectroscopy, vo2, plasma, bitcoin, dental, ulcers, fermentation, phosphorus, stock, market, antioxidant, laser, pore, hormone\n",
      "P550   : cell, peptide, protein, oil, bond, bacteriorhodopsin, plasmid, methyl\n",
      "P600   : protein, proteins, gene, influenza, biochars\n",
      "P900   : protein, nutrition, chemotherapy, pore\n",
      "N100   : gene, ketac, fertilizer, nitrogen, proton, protein, ventricular\n",
      "N110   : protein, quantum, hydrogen, immune, heterozygotes, molecules, dental, tumor\n",
      "N120   : nitrogen, protein, fertilizer, cDNA, bacteria, tumor, hepatic, fungi, cysteine\n",
      "N130   : virus, amino, cancer, resin, peptide, nanoparticles, plasma, bacteriophage, GTPases, intracellular, toxin\n",
      "N135   : molecular, gene, protein, nitrogen, antioxidants, tachycardia, amino, cells, cesarean, particles, ligands, acid, aortic, antithrombin\n",
      "N140   : protein, hypophosphatasia, flavonoids\n",
      "N150   : nitrogen, ligand, fertilization, protein, calcium, liver, cryopreservation\n",
      "N160   : protein, antibodies, hiv-1, cancer, nitrogen, rosaria, herbicide, Wnt, vaccine\n",
      "N170   : protein, cancer, keratin, boronic\n",
      "N180   : fertilizer, protein, nitrogen, endoscopy, glycosylation\n",
      "N190   : protein, amino, cell, protease, plasma\n",
      "N200   : protein, proteins, nitrogen\n",
      "N2a    : protein, proteins, cancer, cell, muscle, synthesis, toxin, neuroblastoma, genes, ischemia, phenyl, feline, nitrogen, ventricular, melanoma, microglia, organ, chronic, diabetes, surgery, antibody, microbial, bacteria, mutations, virus, peptide, histone, neurotoxicity, oxidative, metabolism, amino, DNA\n",
      "N2b    : ttn, cancer, cardiac, protein, serum, tumor, cervical, carcinoma, carcinomas, tamoxifen\n",
      "N2c    : cell, cancer, protein, ligand, blood, synthesis, carcinoma, metastasis, rabies, dihydrate, nitrogen, catalytic, hydrogen, ruthenium, melanoma\n",
      "N2pc   : \n",
      "N220   : mutation, coronavirus, acid, membrane, nucleotide, hydrogen, alloys, carbon, oxygen, nitrogen, torque, glycosylation, calorimetry, breeding, blood, cancer, rhizobia\n",
      "N230   : xenon, DNA, molecular, virus, cancer, metabolism, protein, proteins, genetic, meat, resin, latitude, NMR, plasma, glycans, luciferases\n",
      "N240   : nitrogen, enzyme, molecular\n",
      "N250   : protein, apoptosis, nitrous\n",
      "N270   : enzyme, fungus, glycoprotein\n",
      "N280   : pichia, glycoprotein, catalytic\n",
      "N290   : receptor, biotin, transcription\n",
      "N300   : fertilizer, plasma, nitrogen, cystitis, DNA\n",
      "N320   : cancer, dna, gene, genes, breastfeeding, mutagenesis, leukemia, carbon\n",
      "N350   : liver, cDNA, bacterial\n",
      "N400   : glycan, protein, proteins, cDNA, mRNA, hepatic\n",
      "N450   : uric, amino, virus\n",
      "N550   : hydrogen, membrane, pyrolysis, proton\n",
      "N600   : molecular, income, oximeters, listeria, calcium, bacterial, molecules\n",
      "N700   : calcium, glycosylation, DNA, oxidation\n",
      "MMN    : micronutrients\n",
      "CDA    : \n",
      "LPC    : \n",
      "LPP    : \n",
      "NSW    : \n",
      "PSW    : \n",
      "VPP    : \n",
      "CNV    : \n",
      "PINV   : \n",
      "ELAN   : \n",
      "LAN    : early\n",
      "CPS    : \n",
      "LRP    : \n",
      "LDN    : \n",
      "ORN    : \n",
      "BP     : lateralized\n",
      "ERN    : \n",
      "Pe     : \n",
      "CRN    : \n",
      "MFN    : \n",
      "SPeN   : \n",
      "FRN    : \n",
      "Pd     : \n",
      "EDAN   : \n",
      "LDAP   : \n",
      "ADAN   : \n",
      "EPN    : \n",
      "SN     : \n",
      "SP     : \n",
      "SPN    : \n",
      "SPCN   : \n",
      "PCN    : \n",
      "MRPC   : \n",
      "FSP    : \n",
      "pN     : \n",
      "LPN    : \n",
      "LPoP   : \n",
      "EFN    : \n",
      "FN400  : \n",
      "PMN    : \n",
      "VAN    : \n",
      "RN     : \n"
     ]
    }
   ],
   "source": [
    "# Check the exclusion terms used\n",
    "erps.check_terms('exclusions')"
   ]
  },
  {
   "cell_type": "markdown",
   "metadata": {},
   "source": [
    "## Latencies"
   ]
  },
  {
   "cell_type": "code",
   "execution_count": 10,
   "metadata": {},
   "outputs": [],
   "source": [
    "# Load canonical latency information\n",
    "labels = load_txt_file('erp_labels.txt', term_dir, split_elements=False)\n",
    "latencies = load_txt_file('latencies.txt', term_dir, split_elements=False)\n",
    "latency_dict = {label : latency.split(', ') for label, latency in zip(labels, latencies)}"
   ]
  },
  {
   "cell_type": "code",
   "execution_count": 11,
   "metadata": {},
   "outputs": [],
   "source": [
    "# Extract the labelled polarities and latencies for each ERP\n",
    "polarities = [el[0] for el in latency_dict.values()]\n",
    "latencies = [int(el[1]) for el in latency_dict.values()]"
   ]
  },
  {
   "cell_type": "code",
   "execution_count": 12,
   "metadata": {},
   "outputs": [
    {
     "name": "stdout",
     "output_type": "stream",
     "text": [
      "Counter({'N': 62, 'P': 36})\n"
     ]
    }
   ],
   "source": [
    "# Check the count of polarities\n",
    "polarity_counts = Counter(polarities)\n",
    "print(polarity_counts)"
   ]
  },
  {
   "cell_type": "code",
   "execution_count": 13,
   "metadata": {},
   "outputs": [
    {
     "data": {
      "image/png": "[encoded data removed]",
      "text/plain": [
       "<Figure size 720x288 with 1 Axes>"
      ]
     },
     "metadata": {
      "needs_background": "light"
     },
     "output_type": "display_data"
    }
   ],
   "source": [
    "# Plot the ERP latencies\n",
    "plot_latencies(polarities, latencies)"
   ]
  },
  {
   "cell_type": "code",
   "execution_count": 14,
   "metadata": {},
   "outputs": [
    {
     "name": "stdout",
     "output_type": "stream",
     "text": [
      "Typical ERP latency:\n",
      "  P100\t\t 100\n",
      "  P110\t\t 110\n",
      "  P120\t\t 120\n",
      "  P150\t\t 150\n",
      "  P160\t\t 160\n",
      "  P170\t\t 170\n",
      "  P180\t\t 180\n",
      "  P190\t\t 190\n",
      "  P200\t\t 200\n",
      "  P220\t\t 220\n",
      "  P230\t\t 230\n",
      "  P240\t\t 240\n",
      "  P250\t\t 250\n",
      "  P260\t\t 260\n",
      "  P270\t\t 270\n",
      "  P300\t\t 300\n",
      "  P3a\t\t 275\n",
      "  P3b\t\t 300\n",
      "  P340\t\t 340\n",
      "  P350\t\t 350\n",
      "  P400\t\t 400\n",
      "  P500\t\t 500\n",
      "  P550\t\t 550\n",
      "  P600\t\t 600\n",
      "  P900\t\t 900\n",
      "  N100\t\t 100\n",
      "  N110\t\t 110\n",
      "  N120\t\t 120\n",
      "  N130\t\t 130\n",
      "  N135\t\t 135\n",
      "  N140\t\t 140\n",
      "  N150\t\t 150\n",
      "  N160\t\t 160\n",
      "  N170\t\t 170\n",
      "  N180\t\t 180\n",
      "  N190\t\t 190\n",
      "  N200\t\t 200\n",
      "  N2a\t\t 200\n",
      "  N2b\t\t 200\n",
      "  N2c\t\t 200\n",
      "  N2pc\t\t 225\n",
      "  N220\t\t 220\n",
      "  N230\t\t 230\n",
      "  N240\t\t 240\n",
      "  N250\t\t 250\n",
      "  N270\t\t 270\n",
      "  N280\t\t 280\n",
      "  N290\t\t 290\n",
      "  N300\t\t 300\n",
      "  N320\t\t 320\n",
      "  N350\t\t 350\n",
      "  N400\t\t 400\n",
      "  N450\t\t 450\n",
      "  N550\t\t 550\n",
      "  N600\t\t 600\n",
      "  N700\t\t 700\n",
      "  MMN\t\t 200\n",
      "  CDA\t\t 600\n",
      "  LPC\t\t 450\n",
      "  LPP\t\t 500\n",
      "  NSW\t\t 750\n",
      "  PSW\t\t 750\n",
      "  VPP\t\t 175\n",
      "  CNV\t\t 365\n",
      "  PINV\t\t1000\n",
      "  ELAN\t\t 200\n",
      "  LAN\t\t 400\n",
      "  CPS\t\t 350\n",
      "  LRP\t\t-100\n",
      "  LDN\t\t 400\n",
      "  ORN\t\t 175\n",
      "  BP\t\t-100\n",
      "  ERN\t\t 125\n",
      "  Pe\t\t 350\n",
      "  CRN\t\t 150\n",
      "  MFN\t\t 300\n",
      "  SPeN\t\t-100\n",
      "  FRN\t\t 220\n",
      "  Pd\t\t 335\n",
      "  EDAN\t\t 250\n",
      "  LDAP\t\t 475\n",
      "  ADAN\t\t 425\n",
      "  EPN\t\t 300\n",
      "  SN\t\t 300\n",
      "  SP\t\t 250\n",
      "  SPN\t\t 250\n",
      "  SPCN\t\t 250\n",
      "  PCN\t\t 400\n",
      "  MRPC\t\t-100\n",
      "  FSP\t\t 280\n",
      "  pN\t\t 400\n",
      "  LPN\t\t 800\n",
      "  LPoP\t\t 600\n",
      "  EFN\t\t 225\n",
      "  FN400\t\t 400\n",
      "  PMN\t\t 300\n",
      "  VAN\t\t 200\n",
      "  RN\t\t 500\n"
     ]
    }
   ],
   "source": [
    "print('Typical ERP latency:')\n",
    "for label, lat in zip(labels, latencies):\n",
    "    print('  {:s}\\t\\t{:4d}'.format(label, lat))"
   ]
  },
  {
   "cell_type": "markdown",
   "metadata": {},
   "source": [
    "## Cognitive Terms"
   ]
  },
  {
   "cell_type": "code",
   "execution_count": 15,
   "metadata": {},
   "outputs": [],
   "source": [
    "# Load cognitive terms from file\n",
    "cogs = Base()\n",
    "cogs.add_terms('cognitive.txt', directory=term_dir)"
   ]
  },
  {
   "cell_type": "code",
   "execution_count": 16,
   "metadata": {},
   "outputs": [
    {
     "name": "stdout",
     "output_type": "stream",
     "text": [
      "Number of cognitive terms: 38\n"
     ]
    }
   ],
   "source": [
    "# Check the number of ERP terms\n",
    "print('Number of cognitive terms: {}'.format(cogs.n_terms))"
   ]
  },
  {
   "cell_type": "code",
   "execution_count": 17,
   "metadata": {},
   "outputs": [
    {
     "name": "stdout",
     "output_type": "stream",
     "text": [
      "List of terms used: \n",
      "\n",
      "anticipation        : anticipation, expectation, preparation\n",
      "attention           : attention, attentional\n",
      "arousal             : arousal\n",
      "auditory            : auditory, audition\n",
      "categorization      : categorization\n",
      "cognitive control   : cognitive control\n",
      "comprehension       : comprehension\n",
      "conflict            : conflict\n",
      "conscious           : conscious, consciousness, awareness\n",
      "decision making     : decision making\n",
      "emotion             : emotion, emotional, mood\n",
      "error               : error\n",
      "executive function  : executive function, executive functions\n",
      "face                : face, facial\n",
      "fear                : fear\n",
      "intelligence        : intelligence, knowledge\n",
      "language            : language\n",
      "learning            : learning\n",
      "memory              : memory\n",
      "motor               : motor, movement, motion\n",
      "music               : music, musical\n",
      "pain                : pain, nociception\n",
      "perception          : perception\n",
      "phonology           : phonology, phonological, phonetic, phonetics\n",
      "prediction          : prediction, predictive\n",
      "reading             : reading, lexical\n",
      "recognition         : recognition, familiar, familiarity\n",
      "representation      : representation\n",
      "reward              : reward, reinforcement\n",
      "semantic            : semantic, semantics\n",
      "spatial             : spatial, navigation\n",
      "speech              : speech, articulation, prosody\n",
      "social              : social, theory of mind\n",
      "somatosensory       : somatosensory, tactile\n",
      "syntax              : syntax, syntactic, grammar\n",
      "valence             : valence, affective\n",
      "vision              : vision, visual\n",
      "working memory      : working memory\n"
     ]
    }
   ],
   "source": [
    "# Check the cognitive terms used\n",
    "cogs.check_terms()"
   ]
  },
  {
   "cell_type": "markdown",
   "metadata": {},
   "source": [
    "## Disease Terms"
   ]
  },
  {
   "cell_type": "code",
   "execution_count": 18,
   "metadata": {},
   "outputs": [],
   "source": [
    "# Load the disease terms from file\n",
    "disease = Base()\n",
    "disease.add_terms('disorders.txt', directory=term_dir)"
   ]
  },
  {
   "cell_type": "code",
   "execution_count": 19,
   "metadata": {},
   "outputs": [
    {
     "name": "stdout",
     "output_type": "stream",
     "text": [
      "Number of disease terms: 24\n"
     ]
    }
   ],
   "source": [
    "# Check the number of ERP terms\n",
    "print('Number of disease terms: {}'.format(disease.n_terms))"
   ]
  },
  {
   "cell_type": "code",
   "execution_count": 20,
   "metadata": {},
   "outputs": [
    {
     "name": "stdout",
     "output_type": "stream",
     "text": [
      "List of terms used: \n",
      "\n",
      "alcoholism               : alcoholism, alcohol dependence, alcohol abuse\n",
      "addiction                : addiction, substance abuse\n",
      "ADHD                     : ADHD, attention deficit hyperactivity disorder\n",
      "alzheimer                : alzheimer, alzheimer's\n",
      "anxiety                  : anxiety\n",
      "autism                   : autism\n",
      "bipolar                  : bipolar\n",
      "coma                     : coma\n",
      "dementia                 : dementia\n",
      "depression               : depression, major depressive disorder\n",
      "dyslexia                 : dyslexia\n",
      "epilepsy                 : epilepsy, seizure\n",
      "intellectual disability  : intellectual disability, mental retardation\n",
      "language impairment      : language impairment, aphasia\n",
      "migraine                 : migraine, headache\n",
      "MCI                      : MCI, mild cognitive impairment, cognitive decline\n",
      "multiple sclerosis       : multiple sclerosis\n",
      "OCD                      : OCD, obsessive compulsive disorder\n",
      "parkinson                : parkinson, parkinson's\n",
      "PTSD                     : PTSD, post traumatic stress disorder\n",
      "psychosis                : psychosis\n",
      "schizophrenia            : schizophrenia\n",
      "stroke                   : stroke\n",
      "TBI                      : TBI, traumatic brain injury\n"
     ]
    }
   ],
   "source": [
    "# Check the disease terms\n",
    "disease.check_terms()"
   ]
  }
 ],
 "metadata": {
  "anaconda-cloud": {},
  "kernelspec": {
   "display_name": "Python 3",
   "language": "python",
   "name": "python3"
  },
  "language_info": {
   "codemirror_mode": {
    "name": "ipython",
    "version": 3
   },
   "file_extension": ".py",
   "mimetype": "text/x-python",
   "name": "python",
   "nbconvert_exporter": "python",
   "pygments_lexer": "ipython3",
   "version": "3.8.3"
  }
 },
 "nbformat": 4,
 "nbformat_minor": 1
}
