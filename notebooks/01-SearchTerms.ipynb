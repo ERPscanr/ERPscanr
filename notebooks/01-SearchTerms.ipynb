{
 "cells": [
  {
   "cell_type": "markdown",
   "metadata": {},
   "source": [
    "# Search Terms\n",
    "\n",
    "This project starts with curated collections of terms, including ERP terms, and potential associations, such as cognitive and disease terms. Automated literature collection then collects information from papers using those terms, using [LISC](https://lisc-tools.github.io/). \n",
    "\n",
    "Current analysis takes two forms:\n",
    "- `Words` analyses: analyses text data from articles that discuss ERP related research\n",
    "    - This approach collects text and metadata from papers, and builds data driven profiles for ERP components\n",
    "- `Count` analyses: searches for co-occurences of terms, between ERPs and associated terms\n",
    "    - This approach looks for patterns based on how commonly terms occur together\n",
    "\n",
    "This notebook introduces the terms that are used in the project."
   ]
  },
  {
   "cell_type": "code",
   "execution_count": 1,
   "metadata": {},
   "outputs": [],
   "source": [
    "# Import Base LISC object to load and check search terms\n",
    "from lisc.objects.base import Base"
   ]
  },
  {
   "cell_type": "code",
   "execution_count": 2,
   "metadata": {},
   "outputs": [],
   "source": [
    "# Set the location of the terms\n",
    "term_dir = '../terms/'"
   ]
  },
  {
   "cell_type": "code",
   "execution_count": 3,
   "metadata": {},
   "outputs": [],
   "source": [
    "# Load a test object to check the terms\n",
    "erps = Base()"
   ]
  },
  {
   "cell_type": "markdown",
   "metadata": {},
   "source": [
    "## ERP Terms"
   ]
  },
  {
   "cell_type": "code",
   "execution_count": 4,
   "metadata": {
    "scrolled": true
   },
   "outputs": [],
   "source": [
    "# Load erps and labels terms from file\n",
    "erps.add_terms('erps.txt', directory=term_dir)\n",
    "erps.add_labels('erp_labels.txt', directory=term_dir)"
   ]
  },
  {
   "cell_type": "code",
   "execution_count": 5,
   "metadata": {},
   "outputs": [
    {
     "name": "stdout",
     "output_type": "stream",
     "text": [
      "Number of ERP terms: 88\n"
     ]
    }
   ],
   "source": [
    "# Check the number of ERP terms\n",
    "print('Number of ERP terms: {}'.format(erps.n_terms))"
   ]
  },
  {
   "cell_type": "code",
   "execution_count": 6,
   "metadata": {},
   "outputs": [
    {
     "name": "stdout",
     "output_type": "stream",
     "text": [
      "List of terms used: \n",
      "\n",
      "P100   : P100\n",
      "P150   : P150\n",
      "P170   : P170\n",
      "P180   : P180\n",
      "P200   : P200\n",
      "P220   : P220\n",
      "P230   : P230\n",
      "P240   : P240\n",
      "P250   : P250\n",
      "P270   : P270\n",
      "P300   : P300\n",
      "P3a    : P3a\n",
      "P3b    : P3b\n",
      "P340   : P340\n",
      "P350   : P350\n",
      "P400   : P400\n",
      "P500   : P500\n",
      "P550   : P550\n",
      "P600   : P600\n",
      "N100   : N100\n",
      "N110   : N110\n",
      "N120   : N120\n",
      "N130   : N130\n",
      "N140   : N140\n",
      "N150   : N150\n",
      "N160   : N160\n",
      "N170   : N170\n",
      "N180   : N180\n",
      "N190   : N190\n",
      "N200   : N200\n",
      "N2a    : N2a\n",
      "N2b    : N2b\n",
      "N2c    : N2c\n",
      "N2pc   : N2pc\n",
      "N240   : N240\n",
      "N250   : N250\n",
      "N270   : N270\n",
      "N280   : N280\n",
      "N290   : N290\n",
      "N300   : N300\n",
      "N320   : N320\n",
      "N350   : N350\n",
      "N400   : N400\n",
      "N450   : N450\n",
      "N550   : N550\n",
      "N600   : N600\n",
      "N700   : N700\n",
      "MMN    : MMN, mismatch negativity\n",
      "LPC    : late positive component, late positive complex\n",
      "LPP    : late positive potential, late positive potentials\n",
      "NSW    : negative slow wave\n",
      "PSW    : positive slow wave\n",
      "VPP    : vertex positive potential\n",
      "CNV    : contingent negative variation\n",
      "PINV   : post imperative negative variation\n",
      "ELAN   : early left anterior negativity\n",
      "LAN    : left anterior negativity\n",
      "CPS    : closure positive shift\n",
      "LRP    : lateralized readiness potential\n",
      "LDN    : late discriminative negativity\n",
      "ORN    : object related negativity\n",
      "BP     : readiness potential, bereitschaftspotential\n",
      "ERN    : error related negativity\n",
      "Pe     : error related positivity, error positivity, post error positivity\n",
      "CRN    : correct related negativity, correct response negativity\n",
      "MFN    : medial frontal negativity\n",
      "SPeN   : stimulus preceding negativity\n",
      "FRN    : feedback related negativity\n",
      "Pd     : distractor positivity\n",
      "EDAN   : early directing attention negativity\n",
      "LDAP   : late directing attention positivity\n",
      "ADAN   : anterior directing attention negativity\n",
      "EPN    : early posterior negativity\n",
      "SN     : selection negativity\n",
      "SP     : selection positivity\n",
      "SPN    : sustained posterior negativity\n",
      "SPCN   : sustained posterior contralateral negativity\n",
      "PCN    : posterior contralateral negativity\n",
      "VsEP   : vsep, vestibular sensory evoked potentials, vestibular evoked potentials\n",
      "MRPC   : movement related cortical potential, movement related cortical potentials\n",
      "FSP    : frontal selection positivity, fronto polar selection positivity\n",
      "pN     : prefrontal negativity\n",
      "LPN    : late posterior negativity\n",
      "LPoP   : late posterior positivity\n",
      "EFN    : early frontal negativity\n",
      "FN400  : FN400, frontal old/new effect\n",
      "PMN    : phonological mapping negativity\n",
      "VAN    : visual awareness negativity\n"
     ]
    }
   ],
   "source": [
    "# Check the ERPs that are being used. Entries in the same line as used as synonyms.\n",
    "erps.check_terms()"
   ]
  },
  {
   "cell_type": "code",
   "execution_count": 7,
   "metadata": {},
   "outputs": [],
   "source": [
    "# Add exclusion words\n",
    "erps.add_terms('erps_exclude.txt', term_type='exclusions', directory=term_dir)"
   ]
  },
  {
   "cell_type": "code",
   "execution_count": 8,
   "metadata": {},
   "outputs": [
    {
     "name": "stdout",
     "output_type": "stream",
     "text": [
      "List of exclusions used: \n",
      "\n",
      "P100   : gene, virus, protein, cancer, acid, skin, cytokine, bacteria\n",
      "P150   : protein, cell, dna, dynein, adhesion, cardiac, dynactin, phosphatidylcholines\n",
      "P170   : protein, topoisomerase, cancer, virus, kinase, cells, leukemia, lactic, lactis\n",
      "P180   : protein, serum, plasma, rat, mice, feline, dna, cd45, polymerase, chromatin\n",
      "P200   : gene, protein, antibody, antibodies, phosphate, pemphigoid, microscopy\n",
      "P220   : protein, dna, postnatal, lymphocytes, antigen, polypeptides, cDNA, glucose\n",
      "P230   : leukemia, golgin, protein, transcripts, cells, genes, cytokine\n",
      "P240   : gene, protein, muscle, rat, cells\n",
      "P250   : protein, cell, postnatal, antigen, polymerase\n",
      "P270   : protein, promoter, rna, antigen, insulin, influenza, hormones, transmembrane\n",
      "P300   : gene, protein, transcription, antibody, tumor, battery, epithelial, apoptosis\n",
      "P3a    : protein, bacteria, ATPase, vacuoles\n",
      "P3b    : protein, bacteria, cancer\n",
      "P340   : molecular, antibodies, protein, autophagy\n",
      "P350   : protein, spectrophotometry\n",
      "P400   : protein, h2a.z, histone, genes, enzymes, peroxidation, endonuclease\n",
      "P500   : protein, index, financial, cell, spectroscopy, vo2, plasma\n",
      "P550   : cell, peptide, protein, oil, bond, bacteriorhodopsin\n",
      "P600   : protein, gene\n",
      "N100   : gene, ketac, fertilizer, nitrogen\n",
      "N110   : protein, quantum, hydrogen, immune, heterozygotes, molecules\n",
      "N120   : nitrogen, protein, fertilizer, cDNA\n",
      "N130   : virus, amino, cancer, resin, peptide\n",
      "N140   : protein, hypophosphatasia\n",
      "N150   : nitrogen, ligand, fertilization, protein\n",
      "N160   : protein, antibodies, hiv-1, cancer\n",
      "N170   : protein, cancer\n",
      "N180   : fertilizer, protein, nitrogen, endoscopy, glycosylation\n",
      "N190   : protein, amino, cell, protease\n",
      "N200   : protein, nitrogen\n",
      "N2a    : protein, cancer, cell, muscle, synthesis, toxin, neuroblastoma, genes, ischemia\n",
      "N2b    : ttn, cancer, cardiac, protein, serum, tumor, cervical, carcinoma\n",
      "N2c    : cell, cancer, protein, ligand, blood, synthesis, carcinoma, metastasis, rabies, dihydrate\n",
      "N2pc   : \n",
      "N240   : nitrogen, enzyme, molecular\n",
      "N250   : protein\n",
      "N270   : enzyme, fungus, glycoprotein\n",
      "N280   : pichia\n",
      "N290   : receptor\n",
      "N300   : fertilizer, plasma, nitrogen\n",
      "N320   : cancer, dna, genes, breastfeeding, mutagenesis, leukemia\n",
      "N350   : liver, cDNA\n",
      "N400   : glycan\n",
      "N450   : \n",
      "N550   : hydrogen, membrane\n",
      "N600   : molecular, income, molecular\n",
      "N700   : calcium, glycosylation, DNA, oxidation\n",
      "MMN    : micronutrients\n",
      "LPC    : \n",
      "LPP    : \n",
      "NSW    : \n",
      "PSW    : \n",
      "VPP    : \n",
      "CNV    : \n",
      "PINV   : \n",
      "ELAN   : \n",
      "LAN    : early\n",
      "CPS    : \n",
      "LRP    : \n",
      "LDN    : \n",
      "ORN    : \n",
      "BP     : lateralized\n",
      "ERN    : \n",
      "Pe     : \n",
      "CRN    : \n",
      "MFN    : \n",
      "SPeN   : \n",
      "FRN    : \n",
      "Pd     : \n",
      "EDAN   : \n",
      "LDAP   : \n",
      "ADAN   : \n",
      "EPN    : \n",
      "SN     : \n",
      "SP     : \n",
      "SPN    : \n",
      "SPCN   : \n",
      "PCN    : \n",
      "VsEP   : vagus\n",
      "MRPC   : \n",
      "FSP    : \n",
      "pN     : \n",
      "LPN    : \n",
      "LPoP   : \n",
      "EFN    : \n",
      "FN400  : \n",
      "PMN    : \n",
      "VAN    : \n"
     ]
    }
   ],
   "source": [
    "# Check the exclusion terms used\n",
    "erps.check_terms('exclusions')"
   ]
  },
  {
   "cell_type": "markdown",
   "metadata": {},
   "source": [
    "## Cognitive Terms"
   ]
  },
  {
   "cell_type": "code",
   "execution_count": 9,
   "metadata": {},
   "outputs": [],
   "source": [
    "# Load cognitive terms from file\n",
    "cogs = Base()\n",
    "cogs.add_terms('cognitive.txt', directory=term_dir)"
   ]
  },
  {
   "cell_type": "code",
   "execution_count": 10,
   "metadata": {},
   "outputs": [
    {
     "name": "stdout",
     "output_type": "stream",
     "text": [
      "Number of cognitive terms: 45\n"
     ]
    }
   ],
   "source": [
    "# Check the number of ERP terms\n",
    "print('Number of cognitive terms: {}'.format(cogs.n_terms))"
   ]
  },
  {
   "cell_type": "code",
   "execution_count": 11,
   "metadata": {},
   "outputs": [
    {
     "name": "stdout",
     "output_type": "stream",
     "text": [
      "List of terms used: \n",
      "\n",
      "anticipation        : anticipation, expectation, preparation\n",
      "attention           : attention, attentional\n",
      "arousal             : arousal\n",
      "auditory            : auditory, audition\n",
      "awareness           : awareness\n",
      "categorization      : categorization\n",
      "cognitive control   : cognitive control\n",
      "comprehension       : comprehension\n",
      "conflict            : conflict\n",
      "conscious           : conscious, consciousness\n",
      "decision making     : decision making\n",
      "emotion             : emotion, emotional, mood\n",
      "error               : error\n",
      "executive function  : executive function, executive functions\n",
      "expectation         : expectation\n",
      "face                : face, facial\n",
      "fear                : fear\n",
      "goal                : goal\n",
      "illusion            : illusion, illusory\n",
      "intelligence        : intelligence, knowledge\n",
      "language            : language\n",
      "learning            : learning\n",
      "memory              : memory\n",
      "motor               : motor, movement, motion\n",
      "music               : music, musical\n",
      "pain                : pain, nociception\n",
      "perception          : perception\n",
      "phonology           : phonology, phonological, phonetic, phonetics\n",
      "prediction          : prediction, predictive\n",
      "reading             : reading, lexical\n",
      "reasoning           : reasoning\n",
      "recognition         : recognition, familiar, familiarity\n",
      "representation      : representation\n",
      "reward              : reward, reinforcement\n",
      "semantic            : semantic, semantics\n",
      "sleep               : sleep\n",
      "spatial             : spatial, navigation\n",
      "speech              : speech, articulation, prosody\n",
      "social              : social, theory of mind\n",
      "somatosensory       : somatosensory, tactile\n",
      "syntax              : syntax, syntactic, grammar\n",
      "unconscious         : unconscious\n",
      "valence             : valence, affective\n",
      "vision              : vision, visual\n",
      "working memory      : working memory\n"
     ]
    }
   ],
   "source": [
    "# Check the cognitive terms used\n",
    "cogs.check_terms()"
   ]
  },
  {
   "cell_type": "markdown",
   "metadata": {},
   "source": [
    "## Disease Terms"
   ]
  },
  {
   "cell_type": "code",
   "execution_count": 12,
   "metadata": {},
   "outputs": [],
   "source": [
    "# Load the disease terms from file\n",
    "disease = Base()\n",
    "disease.add_terms('disease.txt', directory=term_dir)"
   ]
  },
  {
   "cell_type": "code",
   "execution_count": 13,
   "metadata": {},
   "outputs": [
    {
     "name": "stdout",
     "output_type": "stream",
     "text": [
      "Number of disease terms: 25\n"
     ]
    }
   ],
   "source": [
    "# Check the number of ERP terms\n",
    "print('Number of disease terms: {}'.format(disease.n_terms))"
   ]
  },
  {
   "cell_type": "code",
   "execution_count": 14,
   "metadata": {},
   "outputs": [
    {
     "name": "stdout",
     "output_type": "stream",
     "text": [
      "List of terms used: \n",
      "\n",
      "alcoholism            : alcoholism, alcohol dependence, alcohol abuse\n",
      "addiction             : addiction\n",
      "ADHD                  : ADHD, attention deficit hyperactivity disorder\n",
      "alzheimer             : alzheimer, alzheimer's\n",
      "anxiety               : anxiety\n",
      "aphasia               : aphasia\n",
      "autism                : autism\n",
      "bipolar               : bipolar\n",
      "coma                  : coma\n",
      "dementia              : dementia\n",
      "depression            : depression, major depressive disorder\n",
      "dyslexia              : dyslexia\n",
      "epilepsy              : epilepsy, seizure\n",
      "migraine              : migraine\n",
      "MCI                   : MCI, mild cognitive impairment, cognitive decline\n",
      "multiple sclerosis    : multiple sclerosis\n",
      "OCD                   : OCD, obsessive compulsive disorder\n",
      "parkinson             : parkinson, parkinson's\n",
      "personality disorder  : personality disorder\n",
      "PTSD                  : PTSD, post traumatic stress disorder\n",
      "psychosis             : psychosis\n",
      "schizophrenia         : schizophrenia\n",
      "stroke                : stroke\n",
      "substance abuse       : substance abuse\n",
      "TBI                   : TBI, traumatic brain injury\n"
     ]
    }
   ],
   "source": [
    "# Check the disease terms\n",
    "disease.check_terms()"
   ]
  }
 ],
 "metadata": {
  "anaconda-cloud": {},
  "kernelspec": {
   "display_name": "Python 3",
   "language": "python",
   "name": "python3"
  },
  "language_info": {
   "codemirror_mode": {
    "name": "ipython",
    "version": 3
   },
   "file_extension": ".py",
   "mimetype": "text/x-python",
   "name": "python",
   "nbconvert_exporter": "python",
   "pygments_lexer": "ipython3",
   "version": "3.8.3"
  }
 },
 "nbformat": 4,
 "nbformat_minor": 1
}
