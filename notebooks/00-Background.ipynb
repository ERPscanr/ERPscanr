{
 "cells": [
  {
   "cell_type": "markdown",
   "metadata": {},
   "source": [
    "# Background\n",
    "\n",
    "This notebook does some background exploration for the ERPscanr project. \n",
    "\n",
    "Specifically, here we examine some properties of the literature in terms of which methods are used, and how popular ERP research is. "
   ]
  },
  {
   "cell_type": "code",
   "execution_count": 1,
   "metadata": {},
   "outputs": [],
   "source": [
    "%matplotlib inline\n",
    "\n",
    "import csv\n",
    "import json\n",
    "from pathlib import Path\n",
    "\n",
    "import numpy as np\n",
    "import matplotlib.pyplot as plt\n",
    "import seaborn as sns\n",
    "\n",
    "from lisc.collect import collect_info, collect_counts\n",
    "from lisc.plts.utils import get_cmap\n",
    "from lisc.plts.words import plot_years\n",
    "from lisc.plts.counts import plot_matrix"
   ]
  },
  {
   "cell_type": "code",
   "execution_count": 2,
   "metadata": {},
   "outputs": [],
   "source": [
    "# Import custom project code\n",
    "import sys\n",
    "sys.path.append('../code')\n",
    "from plts import plot_year_comparison"
   ]
  },
  {
   "cell_type": "markdown",
   "metadata": {},
   "source": [
    "## Settings\n",
    "\n",
    "Settings for the current collection & analyses.\n",
    "\n",
    "Note that to re-run this notebook, it assumes the same relative structure as the project repository, including the data directory. "
   ]
  },
  {
   "cell_type": "code",
   "execution_count": 3,
   "metadata": {},
   "outputs": [],
   "source": [
    "# Notebook settings\n",
    "SAVE_FIG = False\n",
    "SAVE_DATA = False\n",
    "RUN_COLLECTION = False"
   ]
  },
  {
   "cell_type": "code",
   "execution_count": 4,
   "metadata": {},
   "outputs": [],
   "source": [
    "# Set the location of the data directory \n",
    "data_dir = Path('../data/data/background')\n",
    "figs_dir = Path('../data/figures/background')"
   ]
  },
  {
   "cell_type": "code",
   "execution_count": 5,
   "metadata": {},
   "outputs": [],
   "source": [
    "# Plot settings\n",
    "import matplotlib as mpl\n",
    "mpl.rcParams['font.family'] = 'Arial'"
   ]
  },
  {
   "cell_type": "markdown",
   "metadata": {},
   "source": [
    "## Meta Data\n",
    "\n",
    "Collect meta data information about the database we're collecting from, as a log for the collections in this notebook."
   ]
  },
  {
   "cell_type": "code",
   "execution_count": 6,
   "metadata": {},
   "outputs": [],
   "source": [
    "# Collect meta data information for current collections\n",
    "if RUN_COLLECTION:\n",
    "    meta_data = collect_info()\n",
    "    \n",
    "    # Save out meta data information\n",
    "    if SAVE_DATA:\n",
    "        with open(data_dir / 'meta_data.json', 'w') as save_file:\n",
    "            json.dump(meta_data.as_dict(), save_file)\n",
    "\n",
    "else:\n",
    "    with open(data_dir / 'meta_data.json', 'r') as f_obj:\n",
    "        meta_data = json.load(f_obj)"
   ]
  },
  {
   "cell_type": "code",
   "execution_count": 7,
   "metadata": {
    "scrolled": true
   },
   "outputs": [
    {
     "data": {
      "text/plain": [
       "{'date': '2021-05-31_10:51:32',\n",
       " 'log': None,\n",
       " 'requester_n_requests': 1,\n",
       " 'requester_wait_time': 0.3333333333333333,\n",
       " 'requester_start_time': '10:51:32 Monday 31 May 2021',\n",
       " 'requester_end_time': '10:51:33 Monday 31 May 2021',\n",
       " 'requester_logging': None,\n",
       " 'db_info_dbname': 'pubmed',\n",
       " 'db_info_menuname': 'PubMed',\n",
       " 'db_info_description': 'PubMed bibliographic record',\n",
       " 'db_info_dbbuild': 'Build210530-1333.1',\n",
       " 'db_info_count': '32606554',\n",
       " 'db_info_lastupdate': '2021/05/30 18:23'}"
      ]
     },
     "execution_count": 7,
     "metadata": {},
     "output_type": "execute_result"
    }
   ],
   "source": [
    "# Check the meta data for the collection\n",
    "meta_data"
   ]
  },
  {
   "cell_type": "markdown",
   "metadata": {},
   "source": [
    "## Modalities\n",
    "\n",
    "First, lets collect some basic information on different recording modalities.s"
   ]
  },
  {
   "cell_type": "code",
   "execution_count": 8,
   "metadata": {},
   "outputs": [],
   "source": [
    "# Define a list of modalities of interest, with synonyms\n",
    "modality_terms = [['EEG', 'electroencephalography'], \n",
    "                  ['MEG', 'magnetoencephalography'], \n",
    "                  ['ECoG', 'electrocorticography','iEEG', 'intracranial EEG'],\n",
    "                  ['fMRI', 'functional magnetic resonance imaging']]\n",
    "\n",
    "# Define a list of labels to use for the method terms\n",
    "modality_labels = [lst[0] for lst in modality_terms]"
   ]
  },
  {
   "cell_type": "code",
   "execution_count": 9,
   "metadata": {},
   "outputs": [],
   "source": [
    "# Collect data for the number of papers found for each method\n",
    "if RUN_COLLECTION:\n",
    "    modality_count, _ = collect_counts(modality_terms, collect_coocs=False)\n",
    "    \n",
    "    # Save out the collected data for the modality counts\n",
    "    if SAVE_DATA:\n",
    "        with open(data_dir / 'method_counts.csv', 'w') as save_file:\n",
    "            for label, count in zip(modality_labels, modality_count):\n",
    "                save_file.write(label + ',' + str(count) +'\\n')\n",
    "\n",
    "else:\n",
    "    with open(data_dir / 'method_counts.csv', 'r') as f_obj:\n",
    "        modality_count = np.array([row[1] for row in csv.reader(f_obj)], dtype='int')"
   ]
  },
  {
   "cell_type": "code",
   "execution_count": 10,
   "metadata": {},
   "outputs": [
    {
     "name": "stdout",
     "output_type": "stream",
     "text": [
      "Number of articles found for each method:\n",
      "\t EEG \t 97580\n",
      "\t MEG \t 10849\n",
      "\t ECoG \t 10842\n",
      "\t fMRI \t 60060\n"
     ]
    }
   ],
   "source": [
    "# Check the number of articles found for each modality\n",
    "print('Number of articles found for each method:')\n",
    "for label, count in zip(modality_labels, modality_count):\n",
    "    print('\\t', label, '\\t', count)"
   ]
  },
  {
   "cell_type": "markdown",
   "metadata": {},
   "source": [
    "## Modalities Across Time\n",
    "\n",
    "Next, we can examine the different modalities across time. \n",
    "\n",
    "To do so, we will re-run the same search as above, repeated for recent decades, to compare modalities across time."
   ]
  },
  {
   "cell_type": "code",
   "execution_count": 11,
   "metadata": {},
   "outputs": [],
   "source": [
    "# Define the range of the decades to collect information on\n",
    "start_decade, end_decade = 1950, 2020\n",
    "decades = list(range(start_decade, end_decade, 10))"
   ]
  },
  {
   "cell_type": "code",
   "execution_count": 12,
   "metadata": {},
   "outputs": [],
   "source": [
    "# Collect information across each decade of interest\n",
    "if RUN_COLLECTION:\n",
    "    \n",
    "    decade_counts = []\n",
    "    for start_year in decades:\n",
    "\n",
    "        count, _ = collect_counts(modality_terms,\n",
    "                                  collect_coocs=False,\n",
    "                                  mindate=str(start_year) + '/01/01',\n",
    "                                  maxdate=str(start_year+9) + '/12/31')\n",
    "        decade_counts.append(count)\n",
    "\n",
    "    # Convert the collected data into an array, of [n_terms, decade_counts]\n",
    "    decade_counts = np.array(decade_counts).T\n",
    "    \n",
    "    if SAVE_DATA:\n",
    "        # Save out the collected data for the method counts by decade\n",
    "        for ind, label in enumerate(modality_labels):\n",
    "            for decade, count in zip(decades, decade_counts):\n",
    "                with open(data_dir / 'decades' / (label + '.csv'), 'w') as save_file:\n",
    "                    for decade, count in zip(decades, decade_counts[ind, :]):\n",
    "                        save_file.write(str(decade) + ',' + str(count) +'\\n')\n",
    "                        \n",
    "else:\n",
    "    decade_counts = []\n",
    "    for m_term in modality_labels:\n",
    "        with open(data_dir / 'decades'/ (m_term + '.csv'), 'r') as f_obj:\n",
    "            count = np.array([row[1] for row in csv.reader(f_obj)], dtype='int')\n",
    "        decade_counts.append(count)\n",
    "    decade_counts = np.array(decade_counts)"
   ]
  },
  {
   "cell_type": "code",
   "execution_count": 13,
   "metadata": {},
   "outputs": [
    {
     "name": "stdout",
     "output_type": "stream",
     "text": [
      "Number of articles, collapsed across years, for each method:\n",
      "\t EEG \t 89547\n",
      "\t MEG \t 9925\n",
      "\t ECoG \t 9440\n",
      "\t fMRI \t 54075\n"
     ]
    }
   ],
   "source": [
    "# Check the sum of the methods across decades\n",
    "#   Note that this should approximate the total counts from above\n",
    "print('Number of articles, collapsed across years, for each method:')\n",
    "for label, count in zip(modality_labels, np.sum(decade_counts, 1)):\n",
    "    print('\\t', label, '\\t', count)"
   ]
  },
  {
   "cell_type": "code",
   "execution_count": 14,
   "metadata": {},
   "outputs": [
    {
     "data": {
      "image/png": "[encoded data removed]",
      "text/plain": [
       "<Figure size 432x288 with 1 Axes>"
      ]
     },
     "metadata": {
      "needs_background": "light"
     },
     "output_type": "display_data"
    }
   ],
   "source": [
    "# Plot the popularity of each modality across the decades\n",
    "plot_year_comparison(decades, decade_counts, modality_labels,\n",
    "                     save_fig=SAVE_FIG, file_name='modality_decades.pdf', directory=figs_dir)"
   ]
  },
  {
   "cell_type": "markdown",
   "metadata": {},
   "source": [
    "## Number of ERP Papers\n",
    "\n",
    "Next, lets examine ERP research. First, we can collect the total number of papers that discuss ERPs."
   ]
  },
  {
   "cell_type": "code",
   "execution_count": 15,
   "metadata": {},
   "outputs": [],
   "source": [
    "# Define ERP related search term\n",
    "erp_term = [[\"event related potential\", \"ERP\", \"evoked potential\"]]"
   ]
  },
  {
   "cell_type": "code",
   "execution_count": 16,
   "metadata": {},
   "outputs": [],
   "source": [
    "# Collect count of the number of papers mentioning ERPs\n",
    "if RUN_COLLECTION:\n",
    "    erp_count, meta_data = collect_counts(erp_term, collect_coocs=False)\n",
    "    \n",
    "    if SAVE_DATA:        \n",
    "        # Save out the collected data for the ERP count\n",
    "        with open(data_dir / 'erp_count.csv', 'w') as save_file:\n",
    "            save_file.write('erps' + ',' + str(erp_count[0]) +'\\n')\n",
    "\n",
    "else:\n",
    "    with open(data_dir / 'erp_count.csv', 'r') as f_obj:\n",
    "        erp_count = np.array([row[1] for row in csv.reader(f_obj)], dtype='int')"
   ]
  },
  {
   "cell_type": "code",
   "execution_count": 17,
   "metadata": {},
   "outputs": [
    {
     "name": "stdout",
     "output_type": "stream",
     "text": [
      "Number of ERP papers: \t 34312\n"
     ]
    }
   ],
   "source": [
    "# Check the total number of ERP papers found\n",
    "print('Number of ERP papers: \\t', erp_count[0])"
   ]
  },
  {
   "cell_type": "markdown",
   "metadata": {},
   "source": [
    "## ERP research across years\n",
    "\n",
    "Next, we can examine ERP research across time, by collecting the number of papers discussing ERPs, per year."
   ]
  },
  {
   "cell_type": "code",
   "execution_count": 18,
   "metadata": {},
   "outputs": [],
   "source": [
    "# Define range of years to collect data for\n",
    "start_year, end_year = 1960, 2021"
   ]
  },
  {
   "cell_type": "code",
   "execution_count": 19,
   "metadata": {},
   "outputs": [],
   "source": [
    "# Collect count of the number of ERP related papers per year\n",
    "if RUN_COLLECTION:\n",
    "    \n",
    "    year_counts = {}\n",
    "    for year in range(start_year, end_year):\n",
    "        temp_count, _ = collect_counts(erp_term, collect_coocs=False, \n",
    "                                       mindate=str(year) + '/01/01',\n",
    "                                       maxdate=str(year) + '/12/31')\n",
    "        year_counts[year] = temp_count[0]\n",
    "        \n",
    "    # Save out the collected data for the method counts by decade\n",
    "    if SAVE_DATA:\n",
    "        with open(data_dir / 'erp_years.csv', 'w') as save_file:\n",
    "            for year, count in year_counts.items():\n",
    "                save_file.write(str(year) + ',' + str(count) +'\\n')\n",
    "                \n",
    "else:\n",
    "    with open(data_dir / 'erp_years.csv', 'r') as f_obj:\n",
    "        year_counts = {int(row[0]) : int(row[1]) for row in csv.reader(f_obj)}"
   ]
  },
  {
   "cell_type": "code",
   "execution_count": 20,
   "metadata": {},
   "outputs": [
    {
     "data": {
      "image/png": "[encoded data removed]",
      "text/plain": [
       "<Figure size 432x288 with 1 Axes>"
      ]
     },
     "metadata": {
      "needs_background": "light"
     },
     "output_type": "display_data"
    }
   ],
   "source": [
    "# Plot the number of ERP papers per year\n",
    "plot_years(year_counts, fontsize=14, figsize=(6, 4),\n",
    "           save_fig=SAVE_FIG, file_name='erp_years.pdf', directory=figs_dir)"
   ]
  },
  {
   "cell_type": "markdown",
   "metadata": {},
   "source": [
    "## ERP Associations\n",
    "\n",
    "Finally, we can do a quick scan of some common general associations of ERP-related work. \n",
    "\n",
    "To do so, we will define some very general association terms, and see how often these terms co-occur with ERP research."
   ]
  },
  {
   "cell_type": "code",
   "execution_count": 21,
   "metadata": {},
   "outputs": [],
   "source": [
    "# Define some general association terms\n",
    "assoc_terms = [['cognition', 'cognitive'],\n",
    "               ['biomarker', 'disease'], \n",
    "               ['BCI', 'BCIs', 'brain computer interface'], \n",
    "               ['education', 'pedagogy', 'classroom'],\n",
    "               ['consumer', 'dry-EEG', 'wireless', 'mobile']]\n",
    "\n",
    "# Define a list of labels to use for the association terms\n",
    "assoc_labels = [term[0] for term in assoc_terms]"
   ]
  },
  {
   "cell_type": "code",
   "execution_count": 22,
   "metadata": {},
   "outputs": [],
   "source": [
    "# Collect counts of the number of ERP papers that co-occur with general association terms\n",
    "if RUN_COLLECTION:\n",
    "    coocs, counts, meta_data = collect_counts(erp_term, terms_b=assoc_terms)\n",
    "    \n",
    "    # Save out the collected data for the association counts\n",
    "    if SAVE_DATA:\n",
    "        with open(data_dir / 'association_counts.csv', 'w') as save_file:\n",
    "            for label, count in zip(assoc_labels, coocs[0, :]):\n",
    "                save_file.write(label + ',' + str(count) +'\\n')\n",
    "                \n",
    "else:\n",
    "    with open(data_dir / 'association_counts.csv', 'r') as f_obj:\n",
    "        coocs =np.reshape(np.array([row[1] for row in csv.reader(f_obj)], dtype='int'), (-1, 1)).T"
   ]
  },
  {
   "cell_type": "code",
   "execution_count": 23,
   "metadata": {},
   "outputs": [
    {
     "data": {
      "image/png": "[encoded data removed]",
      "text/plain": [
       "<Figure size 82.8x288 with 1 Axes>"
      ]
     },
     "metadata": {},
     "output_type": "display_data"
    }
   ],
   "source": [
    "# Plot a visualization the counts of ERP papers per association topic\n",
    "plot_matrix(coocs.T, [], [], cmap='blue', figsize=(1.15, 4),\n",
    "            cbar=False, annot=True, annot_kws={\"size\": 18}, fmt='d', \n",
    "            save_fig=SAVE_FIG, file_name='erp_associations.pdf', directory=figs_dir)"
   ]
  },
  {
   "cell_type": "markdown",
   "metadata": {},
   "source": [
    "## Conclusion\n",
    "\n",
    "From these background checks, we can see that EEG research, and in particular ERP research is and continues to be popular, and is used in broad areas of research. This motivates the rest of the project - to dig into the ERP litarature, and further characterize it."
   ]
  }
 ],
 "metadata": {
  "kernelspec": {
   "display_name": "Python 3",
   "language": "python",
   "name": "python3"
  },
  "language_info": {
   "codemirror_mode": {
    "name": "ipython",
    "version": 3
   },
   "file_extension": ".py",
   "mimetype": "text/x-python",
   "name": "python",
   "nbconvert_exporter": "python",
   "pygments_lexer": "ipython3",
   "version": "3.8.3"
  }
 },
 "nbformat": 4,
 "nbformat_minor": 4
}
